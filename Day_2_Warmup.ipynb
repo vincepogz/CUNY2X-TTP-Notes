{
  "nbformat": 4,
  "nbformat_minor": 0,
  "metadata": {
    "colab": {
      "name": "Day 2 Warmup.ipynb",
      "provenance": [],
      "collapsed_sections": [],
      "authorship_tag": "ABX9TyPgqQ7VZNsuMzRVL/Fs8xFU",
      "include_colab_link": true
    },
    "kernelspec": {
      "name": "python3",
      "display_name": "Python 3"
    },
    "language_info": {
      "name": "python"
    }
  },
  "cells": [
    {
      "cell_type": "markdown",
      "metadata": {
        "id": "view-in-github",
        "colab_type": "text"
      },
      "source": [
        "<a href=\"https://colab.research.google.com/github/vincepogz/CUNY2X-TTP-Notes/blob/main/Day_2_Warmup.ipynb\" target=\"_parent\"><img src=\"https://colab.research.google.com/assets/colab-badge.svg\" alt=\"Open In Colab\"/></a>"
      ]
    },
    {
      "cell_type": "markdown",
      "source": [
        "#**Using the Slice Syntax**\n",
        "\n",
        "*   Select a set of characters from “Hello World” to print\n",
        "*   Print “Hello World” in reverse\n"
      ],
      "metadata": {
        "id": "XLgqlEc7hz1e"
      }
    },
    {
      "cell_type": "code",
      "source": [
        "#Correct Solution\n",
        "txt = \"HelloWorld\"\n",
        "print(txt[2:5])"
      ],
      "metadata": {
        "colab": {
          "base_uri": "https://localhost:8080/"
        },
        "id": "6WW7DkvWwFH-",
        "outputId": "ccb77818-68e6-409a-8b96-6f98927bb079"
      },
      "execution_count": 1,
      "outputs": [
        {
          "output_type": "stream",
          "name": "stdout",
          "text": [
            "llo\n"
          ]
        }
      ]
    },
    {
      "cell_type": "code",
      "source": [
        "char = \"Hello World\" #Assigning string to object \"char\"\n",
        "\n",
        "#Method to iterate every elements in the object \"char\"\n",
        "def reverse(char):      #Method called reverse with parameter \"char\"\n",
        "  size = len(char) - 1  #Getting size of \"char\" -1 (Because of indexing)\n",
        "  while size >= 0:      #Initializing while condition\n",
        "    print(char[size])   #Print element in char[#]\n",
        "    size -= 1           #Subtract 1 to current size\n",
        "\n",
        "reverse(char)           #Perform reverse() method"
      ],
      "metadata": {
        "colab": {
          "base_uri": "https://localhost:8080/"
        },
        "id": "QlZxybLTiQbb",
        "outputId": "62ab72bb-ada5-4e5b-cab2-1c0347704c4b"
      },
      "execution_count": 2,
      "outputs": [
        {
          "output_type": "stream",
          "name": "stdout",
          "text": [
            "d\n",
            "l\n",
            "r\n",
            "o\n",
            "W\n",
            " \n",
            "o\n",
            "l\n",
            "l\n",
            "e\n",
            "H\n"
          ]
        }
      ]
    },
    {
      "cell_type": "code",
      "source": [
        "#Correct Solution\n",
        "print(txt[::-1])"
      ],
      "metadata": {
        "colab": {
          "base_uri": "https://localhost:8080/"
        },
        "id": "oE7sNAIawXsv",
        "outputId": "87cb1bb2-8a0f-4c0a-cc58-19eae370beb5"
      },
      "execution_count": 3,
      "outputs": [
        {
          "output_type": "stream",
          "name": "stdout",
          "text": [
            "dlroWolleH\n"
          ]
        }
      ]
    },
    {
      "cell_type": "markdown",
      "source": [
        "#**Using the input() function**\n",
        "\n",
        "\n",
        "*   Print user input in reverse\n",
        "*   Print user input in a sentence\n"
      ],
      "metadata": {
        "id": "AMvbQ-xWmsKF"
      }
    },
    {
      "cell_type": "code",
      "source": [
        "Msg = input(\"Enter your word/sentence: \") #Assigning string to object \"Msg\"\n",
        "reverse(Msg)                              #Perform reverse() method\n",
        "print(f\"You have entered: {Msg}\")         #Printing user input"
      ],
      "metadata": {
        "colab": {
          "base_uri": "https://localhost:8080/"
        },
        "id": "hQtTxwtQnOWE",
        "outputId": "593b9d59-73dd-48e8-cde3-2ccc79a1c108"
      },
      "execution_count": 4,
      "outputs": [
        {
          "output_type": "stream",
          "name": "stdout",
          "text": [
            "Enter your word/sentence: HelloW\n",
            "W\n",
            "o\n",
            "l\n",
            "l\n",
            "e\n",
            "H\n",
            "You have entered: HelloW\n"
          ]
        }
      ]
    },
    {
      "cell_type": "code",
      "source": [
        "#Correct Solution\n",
        "Msg1 = input(\"Enter your word/sentence: \") #Assigning string to object \"Msg\"\n",
        "rMsg = Msg1[::-1]                        #Perform reverse() method\n",
        "print(f\"You have entered: {rMsg}\")        #Printing user input"
      ],
      "metadata": {
        "colab": {
          "base_uri": "https://localhost:8080/"
        },
        "id": "oF4Gzwhowygf",
        "outputId": "17bfda03-059d-42d1-cb48-7cd9d92ccb17"
      },
      "execution_count": 5,
      "outputs": [
        {
          "output_type": "stream",
          "name": "stdout",
          "text": [
            "Enter your word/sentence: HellowWorld\n",
            "You have entered: dlroWwolleH\n"
          ]
        }
      ]
    },
    {
      "cell_type": "markdown",
      "source": [
        "#**Using the type() function, print out the type of three objects**\n",
        "\n",
        "*   Find the type of three objects\n",
        "\n",
        "\n"
      ],
      "metadata": {
        "id": "1wQsndk2pEtr"
      }
    },
    {
      "cell_type": "code",
      "source": [
        "a = \"NYC TTP\"\n",
        "b = 2022\n",
        "c = [\"Vince\", 2022]\n",
        "\n",
        "print(type(a))\n",
        "print(type(b))\n",
        "print(type(c))"
      ],
      "metadata": {
        "colab": {
          "base_uri": "https://localhost:8080/"
        },
        "id": "hIbjU3nmpRka",
        "outputId": "58522255-92df-4a97-a8fd-b53e7ebf8c1c"
      },
      "execution_count": 6,
      "outputs": [
        {
          "output_type": "stream",
          "name": "stdout",
          "text": [
            "<class 'str'>\n",
            "<class 'int'>\n",
            "<class 'list'>\n"
          ]
        }
      ]
    },
    {
      "cell_type": "markdown",
      "source": [
        "#**Perform algebraic operations**\n",
        "\n",
        "*   Add two numbers together\n",
        "*   Find the square root of 5 numbers\n",
        "*   Find the whole number of 5 division problems\n",
        "\n",
        "\n",
        "\n"
      ],
      "metadata": {
        "id": "G6o1EvpepqLj"
      }
    },
    {
      "cell_type": "code",
      "source": [
        "num1 = 10\n",
        "num2 = 20\n",
        "\n",
        "print(num1 + num2)"
      ],
      "metadata": {
        "colab": {
          "base_uri": "https://localhost:8080/"
        },
        "id": "QW8ZPfTdp0rX",
        "outputId": "f8f4b92d-f037-47b5-9c12-7f8f10d4de22"
      },
      "execution_count": 7,
      "outputs": [
        {
          "output_type": "stream",
          "name": "stdout",
          "text": [
            "30\n"
          ]
        }
      ]
    },
    {
      "cell_type": "code",
      "source": [
        "num3 = 5\n",
        "squareroot = num3 * num3\n",
        "print(f\"The squareroot of {num3} is {squareroot}\")"
      ],
      "metadata": {
        "colab": {
          "base_uri": "https://localhost:8080/"
        },
        "id": "uWlmXJ_7p-P0",
        "outputId": "0704542a-51c1-49c8-d26b-e6d117519313"
      },
      "execution_count": 8,
      "outputs": [
        {
          "output_type": "stream",
          "name": "stdout",
          "text": [
            "The squareroot of 5 is 25\n"
          ]
        }
      ]
    },
    {
      "cell_type": "markdown",
      "source": [
        "#**Lists and Arrays**\n",
        "\n",
        "*   Create two lists and combine them\n",
        "*   Create two arrays and combine them\n",
        "\n"
      ],
      "metadata": {
        "id": "KNNTFGWFrZr7"
      }
    },
    {
      "cell_type": "code",
      "source": [
        "list1 = [\"NYC\", \"Tech\", \"Talent\"]\n",
        "list2 = [\"Pipeline\"]\n",
        "alllist = list1 + list2\n",
        "\n",
        "print(alllist)"
      ],
      "metadata": {
        "colab": {
          "base_uri": "https://localhost:8080/"
        },
        "id": "srnbMzW_rizE",
        "outputId": "99731338-0b22-4e62-fb28-ae0b4dabc0af"
      },
      "execution_count": 9,
      "outputs": [
        {
          "output_type": "stream",
          "name": "stdout",
          "text": [
            "['NYC', 'Tech', 'Talent', 'Pipeline']\n"
          ]
        }
      ]
    },
    {
      "cell_type": "code",
      "source": [
        "array1 = (0,2,4,6)\n",
        "array2 = (1,3,5,9)\n",
        "allarray = array1 + array2\n",
        "\n",
        "print(allarray)"
      ],
      "metadata": {
        "colab": {
          "base_uri": "https://localhost:8080/"
        },
        "id": "K_teYkDErxGt",
        "outputId": "83aa99f8-f0fb-41ae-d8d5-5cc89479ba19"
      },
      "execution_count": 10,
      "outputs": [
        {
          "output_type": "stream",
          "name": "stdout",
          "text": [
            "(0, 2, 4, 6, 1, 3, 5, 9)\n"
          ]
        }
      ]
    },
    {
      "cell_type": "markdown",
      "source": [
        "#**Converting Objects**\n",
        "\n",
        "*   Convert 5 objects from one type to another(ex. Int to Float)\n",
        "*   Convert a lowercase string to an UPPERCASE STRING\n",
        "\n"
      ],
      "metadata": {
        "id": "9ze1H-kSsujy"
      }
    },
    {
      "cell_type": "code",
      "source": [
        "obj1 = \"Hello\"\n",
        "obj2 = 12345\n",
        "obj3 = [\"NYC\", \"TTP\"]\n",
        "obj4 = True\n",
        "obj5 = 0\n",
        "\n",
        "print(f\"obj1 is : {obj1}\")\n",
        "print(f\"obj2 is : {obj2}\")\n",
        "print(f\"obj3 is : {obj3}\")\n",
        "print(f\"obj4 is : {obj4}\")\n",
        "print(f\"obj5 is : {obj5}\")\n",
        "\n",
        "nobject1 = list(obj1)\n",
        "nobject2 = float(obj2)\n",
        "nobject3 = str(obj3)\n",
        "nobject4 = int(obj4)\n",
        "nobject5 = bool(obj5)\n",
        "\n",
        "print(f\"After converting obj1 is now {nobject1}\")\n",
        "print(f\"After converting obj2 is now {nobject2}\")\n",
        "print(f\"After converting obj3 is now {nobject3}\")\n",
        "print(f\"After converting obj4 is now {nobject4}\")\n",
        "print(f\"After converting obj5 is now {nobject5}\")"
      ],
      "metadata": {
        "colab": {
          "base_uri": "https://localhost:8080/"
        },
        "id": "tyaEQRi7s2PM",
        "outputId": "f6253c53-3ab7-4ee6-92c9-ce4d0ca5bdca"
      },
      "execution_count": 11,
      "outputs": [
        {
          "output_type": "stream",
          "name": "stdout",
          "text": [
            "obj1 is : Hello\n",
            "obj2 is : 12345\n",
            "obj3 is : ['NYC', 'TTP']\n",
            "obj4 is : True\n",
            "obj5 is : 0\n",
            "After converting obj1 is now ['H', 'e', 'l', 'l', 'o']\n",
            "After converting obj2 is now 12345.0\n",
            "After converting obj3 is now ['NYC', 'TTP']\n",
            "After converting obj4 is now 1\n",
            "After converting obj5 is now False\n"
          ]
        }
      ]
    },
    {
      "cell_type": "code",
      "source": [
        "charUp = char.upper()\n",
        "print(charUp)"
      ],
      "metadata": {
        "colab": {
          "base_uri": "https://localhost:8080/"
        },
        "id": "rN74aLsKullL",
        "outputId": "e90f9d5c-e119-49cf-c5ed-4c818f75991c"
      },
      "execution_count": 12,
      "outputs": [
        {
          "output_type": "stream",
          "name": "stdout",
          "text": [
            "HELLO WORLD\n"
          ]
        }
      ]
    },
    {
      "cell_type": "markdown",
      "source": [
        "#CHALLENGE"
      ],
      "metadata": {
        "id": "qgYHZpQfyP5c"
      }
    },
    {
      "cell_type": "code",
      "source": [
        "a_string = \"Python\"\n",
        "\n",
        "for letter in a_string:\n",
        "  print(letter)"
      ],
      "metadata": {
        "colab": {
          "base_uri": "https://localhost:8080/"
        },
        "id": "46HNx7sKyRyq",
        "outputId": "2b597c00-e4a5-4707-bdf4-22dd721c0944"
      },
      "execution_count": null,
      "outputs": [
        {
          "output_type": "stream",
          "name": "stdout",
          "text": [
            "P\n",
            "y\n",
            "t\n",
            "h\n",
            "o\n",
            "n\n"
          ]
        }
      ]
    },
    {
      "cell_type": "code",
      "source": [
        "import sys\n",
        "print(\"Python Version\")\n",
        "print(sys.version)\n",
        "print(\"Version Info.\")\n",
        "print(sys.version_info)"
      ],
      "metadata": {
        "colab": {
          "base_uri": "https://localhost:8080/"
        },
        "id": "qR2sIWSYzFk4",
        "outputId": "ac37e539-1a48-4de8-caa5-e1820bb358ff"
      },
      "execution_count": null,
      "outputs": [
        {
          "output_type": "stream",
          "name": "stdout",
          "text": [
            "Python Version\n",
            "3.7.12 (default, Sep 10 2021, 00:21:48) \n",
            "[GCC 7.5.0]\n",
            "Version Info.\n",
            "sys.version_info(major=3, minor=7, micro=12, releaselevel='final', serial=0)\n"
          ]
        }
      ]
    }
  ]
}