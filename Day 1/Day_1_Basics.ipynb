{
  "nbformat": 4,
  "nbformat_minor": 0,
  "metadata": {
    "colab": {
      "name": "Day 1 Basics.ipynb",
      "provenance": [],
      "collapsed_sections": [],
      "authorship_tag": "ABX9TyMQvjGvIKbJh7t08uWNwW6u",
      "include_colab_link": true
    },
    "kernelspec": {
      "name": "python3",
      "display_name": "Python 3"
    },
    "language_info": {
      "name": "python"
    }
  },
  "cells": [
    {
      "cell_type": "markdown",
      "metadata": {
        "id": "view-in-github",
        "colab_type": "text"
      },
      "source": [
        "<a href=\"https://colab.research.google.com/github/vincepogz/CUNY2X-TTP-Notes/blob/main/Day_1_Basics.ipynb\" target=\"_parent\"><img src=\"https://colab.research.google.com/assets/colab-badge.svg\" alt=\"Open In Colab\"/></a>"
      ]
    },
    {
      "cell_type": "markdown",
      "source": [
        "#Hello Python"
      ],
      "metadata": {
        "id": "uLdBKh700Lif"
      }
    },
    {
      "cell_type": "code",
      "execution_count": null,
      "metadata": {
        "colab": {
          "base_uri": "https://localhost:8080/"
        },
        "id": "wbICJ9SPhMJQ",
        "outputId": "888607e2-2f6d-4681-d074-84ee9937c7b0"
      },
      "outputs": [
        {
          "output_type": "stream",
          "name": "stdout",
          "text": [
            "Hello There\n"
          ]
        }
      ],
      "source": [
        "print('Hello There')"
      ]
    },
    {
      "cell_type": "code",
      "source": [
        "import this"
      ],
      "metadata": {
        "colab": {
          "base_uri": "https://localhost:8080/"
        },
        "id": "R2GESxZ8imWh",
        "outputId": "19bfabc3-33ca-4581-ba2f-88337bff8c87"
      },
      "execution_count": null,
      "outputs": [
        {
          "output_type": "stream",
          "name": "stdout",
          "text": [
            "The Zen of Python, by Tim Peters\n",
            "\n",
            "Beautiful is better than ugly.\n",
            "Explicit is better than implicit.\n",
            "Simple is better than complex.\n",
            "Complex is better than complicated.\n",
            "Flat is better than nested.\n",
            "Sparse is better than dense.\n",
            "Readability counts.\n",
            "Special cases aren't special enough to break the rules.\n",
            "Although practicality beats purity.\n",
            "Errors should never pass silently.\n",
            "Unless explicitly silenced.\n",
            "In the face of ambiguity, refuse the temptation to guess.\n",
            "There should be one-- and preferably only one --obvious way to do it.\n",
            "Although that way may not be obvious at first unless you're Dutch.\n",
            "Now is better than never.\n",
            "Although never is often better than *right* now.\n",
            "If the implementation is hard to explain, it's a bad idea.\n",
            "If the implementation is easy to explain, it may be a good idea.\n",
            "Namespaces are one honking great idea -- let's do more of those!\n"
          ]
        }
      ]
    },
    {
      "cell_type": "markdown",
      "source": [
        "#String Basics"
      ],
      "metadata": {
        "id": "-UzUSKOVi72g"
      }
    },
    {
      "cell_type": "code",
      "source": [
        "\"This is a string\""
      ],
      "metadata": {
        "colab": {
          "base_uri": "https://localhost:8080/",
          "height": 36
        },
        "id": "jcoO3MlX0hWJ",
        "outputId": "d39d02c9-0c63-4271-87f4-fa521c3e56c6"
      },
      "execution_count": 31,
      "outputs": [
        {
          "output_type": "execute_result",
          "data": {
            "application/vnd.google.colaboratory.intrinsic+json": {
              "type": "string"
            },
            "text/plain": [
              "'This is a string'"
            ]
          },
          "metadata": {},
          "execution_count": 31
        }
      ]
    },
    {
      "cell_type": "code",
      "source": [
        "'This is another kind of string'"
      ],
      "metadata": {
        "colab": {
          "base_uri": "https://localhost:8080/",
          "height": 36
        },
        "id": "dREwmeHD0vbr",
        "outputId": "4f2b9f11-bb3e-4089-9be1-d359ef507b32"
      },
      "execution_count": 32,
      "outputs": [
        {
          "output_type": "execute_result",
          "data": {
            "application/vnd.google.colaboratory.intrinsic+json": {
              "type": "string"
            },
            "text/plain": [
              "'This is another kind of string'"
            ]
          },
          "metadata": {},
          "execution_count": 32
        }
      ]
    },
    {
      "cell_type": "code",
      "source": [
        "\"Hello World\""
      ],
      "metadata": {
        "colab": {
          "base_uri": "https://localhost:8080/",
          "height": 36
        },
        "id": "q4OAO4_O01MZ",
        "outputId": "676048d9-6604-4fa8-8186-75fed8fe398e"
      },
      "execution_count": 33,
      "outputs": [
        {
          "output_type": "execute_result",
          "data": {
            "application/vnd.google.colaboratory.intrinsic+json": {
              "type": "string"
            },
            "text/plain": [
              "'Hello World'"
            ]
          },
          "metadata": {},
          "execution_count": 33
        }
      ]
    },
    {
      "cell_type": "code",
      "source": [
        "'John Jay College of Criminal Justice'"
      ],
      "metadata": {
        "colab": {
          "base_uri": "https://localhost:8080/",
          "height": 36
        },
        "id": "rbrEWIkj1N7A",
        "outputId": "db029e44-32eb-4a41-ab09-d2911a148f65"
      },
      "execution_count": 34,
      "outputs": [
        {
          "output_type": "execute_result",
          "data": {
            "application/vnd.google.colaboratory.intrinsic+json": {
              "type": "string"
            },
            "text/plain": [
              "'John Jay College of Criminal Justice'"
            ]
          },
          "metadata": {},
          "execution_count": 34
        }
      ]
    },
    {
      "cell_type": "code",
      "source": [
        "'NYC TTP Winter Bootcamp'"
      ],
      "metadata": {
        "colab": {
          "base_uri": "https://localhost:8080/",
          "height": 36
        },
        "id": "BndmiQw01T-w",
        "outputId": "f01f031e-3191-4414-dae5-728bf7551fff"
      },
      "execution_count": 35,
      "outputs": [
        {
          "output_type": "execute_result",
          "data": {
            "application/vnd.google.colaboratory.intrinsic+json": {
              "type": "string"
            },
            "text/plain": [
              "'NYC TTP Winter Bootcamp'"
            ]
          },
          "metadata": {},
          "execution_count": 35
        }
      ]
    },
    {
      "cell_type": "code",
      "source": [
        "len(\"Hello World\")\n",
        "a='NYC TTP Winter Bootcamp'\n",
        "b='This is another kind of string'\n",
        "len(a)\n",
        "len(b)\n",
        "'Hi'"
      ],
      "metadata": {
        "colab": {
          "base_uri": "https://localhost:8080/",
          "height": 36
        },
        "id": "KGrE5LPc2fnv",
        "outputId": "d643aae0-9e83-401c-ef88-ace73989c926"
      },
      "execution_count": 36,
      "outputs": [
        {
          "output_type": "execute_result",
          "data": {
            "application/vnd.google.colaboratory.intrinsic+json": {
              "type": "string"
            },
            "text/plain": [
              "'Hi'"
            ]
          },
          "metadata": {},
          "execution_count": 36
        }
      ]
    },
    {
      "cell_type": "markdown",
      "source": [
        "\n",
        "#String Indexing\n",
        "\n",
        "Python can use indexes to call parts of the sequence. Let's learn how this works.\n",
        "\n",
        "In Python, we use brackets [] after an object to call its index. We should also note that indexing starts at 0 for Python. Let's create a new object called 'a' and the walk through a few examples of indexing."
      ],
      "metadata": {
        "id": "KmfvlbZv7SZz"
      }
    },
    {
      "cell_type": "code",
      "source": [
        "##Print the object\n",
        "print(a)"
      ],
      "metadata": {
        "colab": {
          "base_uri": "https://localhost:8080/"
        },
        "id": "KVVxEkyP7lGb",
        "outputId": "76b2d6c0-fc15-465f-fbb4-bdbd63473ce4"
      },
      "execution_count": 37,
      "outputs": [
        {
          "output_type": "stream",
          "name": "stdout",
          "text": [
            "NYC TTP Winter Bootcamp\n"
          ]
        }
      ]
    },
    {
      "cell_type": "code",
      "source": [
        "#Show the [#] element in string\n",
        "a[0]"
      ],
      "metadata": {
        "colab": {
          "base_uri": "https://localhost:8080/",
          "height": 36
        },
        "id": "JVb_kdOO7q7T",
        "outputId": "d9c7ea6d-b7dc-45bf-d3f5-2d0dd1de2ec7"
      },
      "execution_count": 38,
      "outputs": [
        {
          "output_type": "execute_result",
          "data": {
            "application/vnd.google.colaboratory.intrinsic+json": {
              "type": "string"
            },
            "text/plain": [
              "'N'"
            ]
          },
          "metadata": {},
          "execution_count": 38
        }
      ]
    },
    {
      "cell_type": "code",
      "source": [
        "#Show the [#] element in string\n",
        "a[1]"
      ],
      "metadata": {
        "colab": {
          "base_uri": "https://localhost:8080/",
          "height": 36
        },
        "id": "a-kRC-sm79Sg",
        "outputId": "c65ea3ad-89ad-4ea9-9838-f187de888e01"
      },
      "execution_count": 39,
      "outputs": [
        {
          "output_type": "execute_result",
          "data": {
            "application/vnd.google.colaboratory.intrinsic+json": {
              "type": "string"
            },
            "text/plain": [
              "'Y'"
            ]
          },
          "metadata": {},
          "execution_count": 39
        }
      ]
    },
    {
      "cell_type": "code",
      "source": [
        "#Show the [#] element in string\n",
        "a[2]"
      ],
      "metadata": {
        "colab": {
          "base_uri": "https://localhost:8080/",
          "height": 36
        },
        "id": "NqSxJQvV8AsP",
        "outputId": "6e627ce8-2f21-4623-ca10-58b6568b76fa"
      },
      "execution_count": 40,
      "outputs": [
        {
          "output_type": "execute_result",
          "data": {
            "application/vnd.google.colaboratory.intrinsic+json": {
              "type": "string"
            },
            "text/plain": [
              "'C'"
            ]
          },
          "metadata": {},
          "execution_count": 40
        }
      ]
    },
    {
      "cell_type": "code",
      "source": [
        "#Show the [#] element in string\n",
        "a[3]"
      ],
      "metadata": {
        "colab": {
          "base_uri": "https://localhost:8080/",
          "height": 36
        },
        "id": "3DkW8cBk8gMK",
        "outputId": "8015db82-55c6-4b95-ed22-d1474a54e1cd"
      },
      "execution_count": 41,
      "outputs": [
        {
          "output_type": "execute_result",
          "data": {
            "application/vnd.google.colaboratory.intrinsic+json": {
              "type": "string"
            },
            "text/plain": [
              "' '"
            ]
          },
          "metadata": {},
          "execution_count": 41
        }
      ]
    },
    {
      "cell_type": "markdown",
      "source": [
        "##Concatenation of the Strings"
      ],
      "metadata": {
        "id": "5e-GZ_iMcgf4"
      }
    },
    {
      "cell_type": "code",
      "source": [
        "greetings = 'Hello'\n",
        "name = \"Mark\"\n",
        "print(greetings + name)\n",
        "print(greetings + \" \" + name)"
      ],
      "metadata": {
        "colab": {
          "base_uri": "https://localhost:8080/"
        },
        "id": "cJ2lgjcocpFr",
        "outputId": "50292037-5e9d-45f1-a923-084c744d75cb"
      },
      "execution_count": 42,
      "outputs": [
        {
          "output_type": "stream",
          "name": "stdout",
          "text": [
            "HelloMark\n",
            "Hello Mark\n"
          ]
        }
      ]
    },
    {
      "cell_type": "markdown",
      "source": [
        "#Input Function"
      ],
      "metadata": {
        "id": "44iY7E4udYDn"
      }
    },
    {
      "cell_type": "code",
      "source": [
        "greetings = \"Hello\" #Set greeting variable\n",
        "name = input(\"What is your name?:  \") #Set name variable by input\n",
        "print(greetings + \" \" + name) #Print"
      ],
      "metadata": {
        "colab": {
          "base_uri": "https://localhost:8080/"
        },
        "id": "-jrbkIq7d6Ae",
        "outputId": "19691ed8-4b08-4c7b-caab-59670a077646"
      },
      "execution_count": 4,
      "outputs": [
        {
          "output_type": "stream",
          "name": "stdout",
          "text": [
            "What is your name?:  Vince\n",
            "Hello Vince\n"
          ]
        }
      ]
    },
    {
      "cell_type": "code",
      "source": [
        "'''\n",
        "\n",
        "Task: \n",
        "  1. Ask the user for name, age, and city\n",
        "  2. Print Out a greeting for it.\n",
        "\n",
        "'''\n",
        "\n",
        "#Set variables\n",
        "Message = \"Person identified: \"\n",
        "name = input(\"Enter your name: \") #Set Name\n",
        "age = input(\"Enter your age: \") #Set Age\n",
        "city = input(\"Enter your city: \") #Set City\n",
        "\n",
        "#Print Message\n",
        "print(Message + name + \" \" + str(age) + \" \" + \"from\" + \" \" + city)\n",
        "\n",
        "#Another way of formatting without Concatenation of the Strings\n",
        "\n",
        "print(f\"{Message} {name} {age} from {city}\")"
      ],
      "metadata": {
        "colab": {
          "base_uri": "https://localhost:8080/"
        },
        "id": "BohW1YSoe4JJ",
        "outputId": "96302fe7-c140-4d55-ac6b-6cc1123b5548"
      },
      "execution_count": 12,
      "outputs": [
        {
          "output_type": "stream",
          "name": "stdout",
          "text": [
            "Enter your name: Vince\n",
            "Enter your age: 27\n",
            "Enter your city: Queens\n",
            "Person identified: Vince 27 from Queens\n",
            "Person identified:  Vince 27 from Queens\n"
          ]
        }
      ]
    },
    {
      "cell_type": "code",
      "source": [
        "#Using .format version 1\n",
        "print(\"Hi there, {}, you look great for a person of {}, and you are from {} which is excellent\".format(name,age,city))"
      ],
      "metadata": {
        "colab": {
          "base_uri": "https://localhost:8080/"
        },
        "id": "iQtlkxBFgCqj",
        "outputId": "e2fc0873-eabe-44c2-dded-d5cc394ce38d"
      },
      "execution_count": 13,
      "outputs": [
        {
          "output_type": "stream",
          "name": "stdout",
          "text": [
            "Hi there, Vince, you look great for a person of 27, and you are from Queens which is excellent\n"
          ]
        }
      ]
    },
    {
      "cell_type": "code",
      "source": [
        "#Using .format version 2\n",
        "print(\"The color are {} {} {}\".format(\"Red\", \"Green\", \"Blue\"))"
      ],
      "metadata": {
        "colab": {
          "base_uri": "https://localhost:8080/"
        },
        "id": "qAhALxuXh5cP",
        "outputId": "b7e74160-39f8-4157-c224-1ec451464947"
      },
      "execution_count": 14,
      "outputs": [
        {
          "output_type": "stream",
          "name": "stdout",
          "text": [
            "The color are Red Green Blue\n"
          ]
        }
      ]
    },
    {
      "cell_type": "code",
      "source": [
        "#Using .format index\n",
        "print(\"The color are {0} {0} {0}\".format(\"Red\", \"Green\", \"Blue\"))"
      ],
      "metadata": {
        "id": "0tmeAePfiEda"
      },
      "execution_count": null,
      "outputs": []
    },
    {
      "cell_type": "code",
      "source": [
        "#Using .format index\n",
        "print(\"The color are {2} {2} {2}\".format(\"Red\", \"Green\", \"Blue\"))"
      ],
      "metadata": {
        "id": "5P7sIMpKiIqw"
      },
      "execution_count": null,
      "outputs": []
    },
    {
      "cell_type": "code",
      "source": [
        "#Using .format variable\n",
        "print(\"The color are {r} {g} {b}\".format(r=\"Red\",g=\"Green\", b=\"Blue\"))"
      ],
      "metadata": {
        "colab": {
          "base_uri": "https://localhost:8080/"
        },
        "id": "2AjD9ZRWiSQs",
        "outputId": "216b6b87-785d-4026-c4a5-4faf45013251"
      },
      "execution_count": 15,
      "outputs": [
        {
          "output_type": "stream",
          "name": "stdout",
          "text": [
            "The color are Red Green Blue\n"
          ]
        }
      ]
    },
    {
      "cell_type": "markdown",
      "source": [
        "#Numbers & Arithmetics"
      ],
      "metadata": {
        "id": "BJgqQ3KjjpA9"
      }
    },
    {
      "cell_type": "code",
      "source": [
        "num1 = 14 #Set variable \"num1\" as 14\n",
        "print(a) #Print num1"
      ],
      "metadata": {
        "colab": {
          "base_uri": "https://localhost:8080/"
        },
        "id": "vh_Kh6h_kHI_",
        "outputId": "1bcaaf6f-a6e1-4a20-fa24-8f113fc7ac09"
      },
      "execution_count": 17,
      "outputs": [
        {
          "output_type": "stream",
          "name": "stdout",
          "text": [
            "14\n"
          ]
        }
      ]
    },
    {
      "cell_type": "code",
      "source": [
        "num2 = 4 #Set variable \"num2\" as 4\n",
        "print(b) #Print num2"
      ],
      "metadata": {
        "colab": {
          "base_uri": "https://localhost:8080/"
        },
        "id": "aZ0quAHckLhw",
        "outputId": "7aacd396-ccc2-4de9-d193-39227d6c68db"
      },
      "execution_count": 28,
      "outputs": [
        {
          "output_type": "stream",
          "name": "stdout",
          "text": [
            "4\n"
          ]
        },
        {
          "output_type": "execute_result",
          "data": {
            "text/plain": [
              "int"
            ]
          },
          "metadata": {},
          "execution_count": 28
        }
      ]
    },
    {
      "cell_type": "code",
      "source": [
        "print(num1 + num2) #Perform addition arithmetic"
      ],
      "metadata": {
        "colab": {
          "base_uri": "https://localhost:8080/"
        },
        "id": "rcw7yxCdkPsE",
        "outputId": "db3fe416-3cbd-459c-c182-cb752f73dc9a"
      },
      "execution_count": 22,
      "outputs": [
        {
          "output_type": "stream",
          "name": "stdout",
          "text": [
            "18\n"
          ]
        }
      ]
    },
    {
      "cell_type": "code",
      "source": [
        "print(num1 - num2) #Perform substration arithmetic"
      ],
      "metadata": {
        "id": "4gaSNRHJkRTP"
      },
      "execution_count": null,
      "outputs": []
    },
    {
      "cell_type": "code",
      "source": [
        "print(num1 * num2) #Perform multiplication arithmetic"
      ],
      "metadata": {
        "colab": {
          "base_uri": "https://localhost:8080/"
        },
        "id": "JLTTldmUkUFv",
        "outputId": "e8a7e0e8-19f8-4d21-c32d-a09e359106db"
      },
      "execution_count": 24,
      "outputs": [
        {
          "output_type": "stream",
          "name": "stdout",
          "text": [
            "56\n"
          ]
        }
      ]
    },
    {
      "cell_type": "code",
      "source": [
        "print(num1 / num2) #Perform division arithmetic"
      ],
      "metadata": {
        "colab": {
          "base_uri": "https://localhost:8080/"
        },
        "id": "I07oU2-vkvhv",
        "outputId": "408bc6f9-4c29-4201-a548-637439f36354"
      },
      "execution_count": 25,
      "outputs": [
        {
          "output_type": "stream",
          "name": "stdout",
          "text": [
            "3.5\n"
          ]
        }
      ]
    },
    {
      "cell_type": "code",
      "source": [
        "print(num1 // num2) #Perform division arithmetic without remainder"
      ],
      "metadata": {
        "colab": {
          "base_uri": "https://localhost:8080/"
        },
        "id": "w4qYfqhak6zI",
        "outputId": "c6af4bc0-9b2f-4307-d2be-4aff5ef7d8f7"
      },
      "execution_count": 27,
      "outputs": [
        {
          "output_type": "stream",
          "name": "stdout",
          "text": [
            "3\n"
          ]
        }
      ]
    },
    {
      "cell_type": "code",
      "source": [
        "print(num1 % num2) #Perform division but only display the remainder"
      ],
      "metadata": {
        "id": "oMi-iC9wk0iR"
      },
      "execution_count": null,
      "outputs": []
    }
  ]
}