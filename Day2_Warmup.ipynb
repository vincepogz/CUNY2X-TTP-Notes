{
  "nbformat": 4,
  "nbformat_minor": 0,
  "metadata": {
    "colab": {
      "name": "Day2 Warmup.ipynb",
      "provenance": [],
      "collapsed_sections": [
        "XLgqlEc7hz1e",
        "AMvbQ-xWmsKF",
        "1wQsndk2pEtr",
        "9ze1H-kSsujy"
      ],
      "authorship_tag": "ABX9TyNZ4MtteSG8IZH5TbmPj4Wy",
      "include_colab_link": true
    },
    "kernelspec": {
      "name": "python3",
      "display_name": "Python 3"
    },
    "language_info": {
      "name": "python"
    }
  },
  "cells": [
    {
      "cell_type": "markdown",
      "metadata": {
        "id": "view-in-github",
        "colab_type": "text"
      },
      "source": [
        "<a href=\"https://colab.research.google.com/github/vincepogz/CUNY2X-TTP-Notes/blob/main/Day2_Warmup.ipynb\" target=\"_parent\"><img src=\"https://colab.research.google.com/assets/colab-badge.svg\" alt=\"Open In Colab\"/></a>"
      ]
    },
    {
      "cell_type": "markdown",
      "source": [
        "#**Using the Slice Syntax**\n",
        "\n",
        "*   Select a set of characters from “Hello World” to print\n",
        "*   Print “Hello World” in reverse\n"
      ],
      "metadata": {
        "id": "XLgqlEc7hz1e"
      }
    },
    {
      "cell_type": "code",
      "source": [
        "char = \"Hello World\" #Assigning string to object \"char\"\n",
        "\n",
        "#Method to iterate every elements in the object \"char\"\n",
        "def reverse(char):      #Method called reverse with parameter \"char\"\n",
        "  size = len(char) - 1  #Getting size of \"char\" -1 (Because of indexing)\n",
        "  while size >= 0:      #Initializing while condition\n",
        "    print(char[size])   #Print element in char[#]\n",
        "    size -= 1           #Subtract 1 to current size\n",
        "\n",
        "reverse(char)           #Perform reverse() method"
      ],
      "metadata": {
        "colab": {
          "base_uri": "https://localhost:8080/"
        },
        "id": "QlZxybLTiQbb",
        "outputId": "972dc686-b76d-424f-f85d-07d0d3708795"
      },
      "execution_count": null,
      "outputs": [
        {
          "output_type": "stream",
          "name": "stdout",
          "text": [
            "d\n",
            "l\n",
            "r\n",
            "o\n",
            "W\n",
            " \n",
            "o\n",
            "l\n",
            "l\n",
            "e\n",
            "H\n"
          ]
        }
      ]
    },
    {
      "cell_type": "markdown",
      "source": [
        "#**Using the input() function**\n",
        "\n",
        "\n",
        "*   Print user input in reverse\n",
        "*   Print user input in a sentence\n"
      ],
      "metadata": {
        "id": "AMvbQ-xWmsKF"
      }
    },
    {
      "cell_type": "code",
      "source": [
        "Msg = input(\"Enter your word/sentence: \") #Assigning string to object \"Msg\"\n",
        "reverse(Msg)                              #Perform reverse() method\n",
        "print(f\"You have entered: {Msg}\")         #Printing user input"
      ],
      "metadata": {
        "colab": {
          "base_uri": "https://localhost:8080/"
        },
        "id": "hQtTxwtQnOWE",
        "outputId": "20cb46c8-6da9-41b1-b479-bed9606fa27a"
      },
      "execution_count": 22,
      "outputs": [
        {
          "output_type": "stream",
          "name": "stdout",
          "text": [
            "Enter your word/sentence: Amazing\n",
            "g\n",
            "n\n",
            "i\n",
            "z\n",
            "a\n",
            "m\n",
            "A\n",
            "You have entered: Amazing\n"
          ]
        }
      ]
    },
    {
      "cell_type": "markdown",
      "source": [
        "#**Using the type() function, print out the type of three objects**\n",
        "\n",
        "*   Find the type of three objects\n",
        "\n",
        "\n"
      ],
      "metadata": {
        "id": "1wQsndk2pEtr"
      }
    },
    {
      "cell_type": "code",
      "source": [
        "a = \"NYC TTP\"\n",
        "b = 2022\n",
        "c = [\"Vince\", 2022]\n",
        "\n",
        "print(type(a))\n",
        "print(type(b))\n",
        "print(type(c))"
      ],
      "metadata": {
        "colab": {
          "base_uri": "https://localhost:8080/"
        },
        "id": "hIbjU3nmpRka",
        "outputId": "f72b3615-7c50-4cd1-e65e-3b926ecf35e7"
      },
      "execution_count": 25,
      "outputs": [
        {
          "output_type": "stream",
          "name": "stdout",
          "text": [
            "<class 'str'>\n",
            "<class 'int'>\n",
            "<class 'list'>\n"
          ]
        }
      ]
    },
    {
      "cell_type": "markdown",
      "source": [
        "#**Perform algebraic operations**\n",
        "\n",
        "*   Add two numbers together\n",
        "*   Find the square root of 5 numbers\n",
        "*   Find the whole number of 5 division problems\n",
        "\n",
        "\n",
        "\n"
      ],
      "metadata": {
        "id": "G6o1EvpepqLj"
      }
    },
    {
      "cell_type": "code",
      "source": [
        "num1 = 10\n",
        "num2 = 20\n",
        "\n",
        "print(num1 + num2)"
      ],
      "metadata": {
        "colab": {
          "base_uri": "https://localhost:8080/"
        },
        "id": "QW8ZPfTdp0rX",
        "outputId": "c4a1747d-80f4-493b-ba87-16e5e6ff1c8f"
      },
      "execution_count": 26,
      "outputs": [
        {
          "output_type": "stream",
          "name": "stdout",
          "text": [
            "30\n"
          ]
        }
      ]
    },
    {
      "cell_type": "code",
      "source": [
        "num3 = 5\n",
        "squareroot = num3 * num3\n",
        "print(f\"The squareroot of {num3} is {squareroot}\")"
      ],
      "metadata": {
        "colab": {
          "base_uri": "https://localhost:8080/"
        },
        "id": "uWlmXJ_7p-P0",
        "outputId": "0e8dd291-7f18-4a40-c08c-69ccfb89621e"
      },
      "execution_count": 30,
      "outputs": [
        {
          "output_type": "stream",
          "name": "stdout",
          "text": [
            "The squareroot of 5 is 25\n"
          ]
        }
      ]
    },
    {
      "cell_type": "code",
      "source": [
        ""
      ],
      "metadata": {
        "id": "0lrCtOUXqsTD"
      },
      "execution_count": null,
      "outputs": []
    },
    {
      "cell_type": "markdown",
      "source": [
        "#**Lists and Arrays**\n",
        "\n",
        "*   Create two lists and combine them\n",
        "*   Create two arrays and combine them\n",
        "\n"
      ],
      "metadata": {
        "id": "KNNTFGWFrZr7"
      }
    },
    {
      "cell_type": "code",
      "source": [
        "list1 = [\"NYC\", \"Tech\", \"Talent\"]\n",
        "list2 = [\"Pipeline\"]\n",
        "alllist = list1 + list2\n",
        "\n",
        "print(alllist)"
      ],
      "metadata": {
        "colab": {
          "base_uri": "https://localhost:8080/"
        },
        "id": "srnbMzW_rizE",
        "outputId": "ec06b538-21b7-4ccb-938c-cb2a350b6248"
      },
      "execution_count": 34,
      "outputs": [
        {
          "output_type": "stream",
          "name": "stdout",
          "text": [
            "<class 'list'>\n",
            "['NYC', 'Tech', 'Talent', 'Pipeline']\n"
          ]
        }
      ]
    },
    {
      "cell_type": "code",
      "source": [
        "array1 = [0,2,4,6]\n",
        "array2 = [1,3,5,9]\n",
        "allarray = array1 + array2\n",
        "\n",
        "print(allarray)"
      ],
      "metadata": {
        "colab": {
          "base_uri": "https://localhost:8080/"
        },
        "id": "K_teYkDErxGt",
        "outputId": "a47be87a-d2f3-49a9-d39a-d464bdc17816"
      },
      "execution_count": 36,
      "outputs": [
        {
          "output_type": "stream",
          "name": "stdout",
          "text": [
            "[0, 2, 4, 6, 1, 3, 5, 9]\n"
          ]
        }
      ]
    },
    {
      "cell_type": "markdown",
      "source": [
        "#**Converting Objects**\n",
        "\n",
        "*   Convert 5 objects from one type to another(ex. Int to Float)\n",
        "*   Convert a lowercase string to an UPPERCASE STRING\n",
        "\n"
      ],
      "metadata": {
        "id": "9ze1H-kSsujy"
      }
    },
    {
      "cell_type": "code",
      "source": [
        "obj1 = \"Hello\"\n",
        "obj2 = 12345\n",
        "obj3 = [\"NYC\", \"TTP\"]\n",
        "obj4 = True\n",
        "obj5 = 0\n",
        "\n",
        "print(f\"obj1 is : {obj1}\")\n",
        "print(f\"obj2 is : {obj2}\")\n",
        "print(f\"obj3 is : {obj3}\")\n",
        "print(f\"obj4 is : {obj4}\")\n",
        "print(f\"obj5 is : {obj5}\")\n",
        "\n",
        "nobject1 = list(obj1)\n",
        "nobject2 = float(obj2)\n",
        "nobject3 = str(obj3)\n",
        "nobject4 = int(obj4)\n",
        "nobject5 = bool(obj5)\n",
        "\n",
        "print(f\"After converting obj1 is now {nobject1}\")\n",
        "print(f\"After converting obj1 is now {nobject2}\")\n",
        "print(f\"After converting obj1 is now {nobject3}\")\n",
        "print(f\"After converting obj1 is now {nobject4}\")\n",
        "print(f\"After converting obj1 is now {nobject5}\")"
      ],
      "metadata": {
        "colab": {
          "base_uri": "https://localhost:8080/"
        },
        "id": "tyaEQRi7s2PM",
        "outputId": "f4f8c44a-7eb6-4038-d651-f5727ac673eb"
      },
      "execution_count": 47,
      "outputs": [
        {
          "output_type": "stream",
          "name": "stdout",
          "text": [
            "obj1 is : Hello\n",
            "obj2 is : 12345\n",
            "obj3 is : ['NYC', 'TTP']\n",
            "obj4 is : True\n",
            "obj5 is : 0\n",
            "After converting obj1 is now ['H', 'e', 'l', 'l', 'o']\n",
            "After converting obj1 is now 12345.0\n",
            "After converting obj1 is now ['NYC', 'TTP']\n",
            "After converting obj1 is now 1\n",
            "After converting obj1 is now False\n"
          ]
        }
      ]
    },
    {
      "cell_type": "code",
      "source": [
        "charUp = char.upper()\n",
        "print(charUp)"
      ],
      "metadata": {
        "colab": {
          "base_uri": "https://localhost:8080/"
        },
        "id": "rN74aLsKullL",
        "outputId": "6768d876-424a-457f-d6bd-2608c361a832"
      },
      "execution_count": 55,
      "outputs": [
        {
          "output_type": "stream",
          "name": "stdout",
          "text": [
            "HELLO WORLD\n"
          ]
        }
      ]
    }
  ]
}