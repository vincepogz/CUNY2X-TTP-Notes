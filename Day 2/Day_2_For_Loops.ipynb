{
  "nbformat": 4,
  "nbformat_minor": 0,
  "metadata": {
    "colab": {
      "name": "Day 2 For-Loops.ipynb",
      "provenance": [],
      "authorship_tag": "ABX9TyPy9CeFA8WT6PwLOUo5tvfW",
      "include_colab_link": true
    },
    "kernelspec": {
      "name": "python3",
      "display_name": "Python 3"
    },
    "language_info": {
      "name": "python"
    }
  },
  "cells": [
    {
      "cell_type": "markdown",
      "metadata": {
        "id": "view-in-github",
        "colab_type": "text"
      },
      "source": [
        "<a href=\"https://colab.research.google.com/github/vincepogz/CUNY2X-TTP-Notes/blob/main/Day_2_For_Loops.ipynb\" target=\"_parent\"><img src=\"https://colab.research.google.com/assets/colab-badge.svg\" alt=\"Open In Colab\"/></a>"
      ]
    },
    {
      "cell_type": "code",
      "execution_count": null,
      "metadata": {
        "id": "mHPioXrhRGTG"
      },
      "outputs": [],
      "source": [
        "#Initializing list\n",
        "l = [1,2,3,4,5,6,7,8,9,10]"
      ]
    },
    {
      "cell_type": "code",
      "source": [
        "#Print list (based on length of list)\n",
        "for i in l:\n",
        "    print(i)"
      ],
      "metadata": {
        "id": "4P-JkUNZUW2E"
      },
      "execution_count": null,
      "outputs": []
    },
    {
      "cell_type": "code",
      "source": [
        "# Modulo\n",
        "# The modulo allows us to get the remainder in a division and uses the % symbol. \n",
        "17 % 5"
      ],
      "metadata": {
        "id": "AyesVZOLUYfo"
      },
      "execution_count": null,
      "outputs": []
    },
    {
      "cell_type": "code",
      "source": [
        "10 % 3"
      ],
      "metadata": {
        "id": "rv105de4UbII"
      },
      "execution_count": null,
      "outputs": []
    },
    {
      "cell_type": "code",
      "source": [
        "18 % 7"
      ],
      "metadata": {
        "id": "tb4ILmLyUdDS"
      },
      "execution_count": null,
      "outputs": []
    },
    {
      "cell_type": "code",
      "source": [
        "# Let's print only the even numbers from a list\n",
        "\n",
        "mlist = [1,22,332,42,51,6,237,8,93,10, 55, 65, 76, 23, 87, 23, 9,41, 45, 66]\n",
        "# In the previous line I created a list of numbers.\n",
        "\n",
        "for number in mlist:\n",
        "# in this line I create a for loop to iterate through my list of numbers.\n",
        "\n",
        "  if number % 2 == 0:\n",
        "  # in this line I am using a conditional statement 'if-statement' to determine if a number is even!\n",
        "    print(number)\n",
        "    # in this line I am printing the iterator oafter the conditional statemwent has been executed.\n"
      ],
      "metadata": {
        "id": "nuTFUvYwUeDs"
      },
      "execution_count": null,
      "outputs": []
    },
    {
      "cell_type": "code",
      "source": [
        "# Let's print only the even numbers from a list\n",
        "mlist = [1,22,332,42,51,6,237,8,93,10, 55, 65, 76, 23, 87, 23, 9,41, 45, 66]\n",
        "for number in mlist:\n",
        "  if number % 2 == 0:\n",
        "    print(number)\n",
        "  else:\n",
        "    print('Odd Number')"
      ],
      "metadata": {
        "id": "iDHjBUyKUfaW"
      },
      "execution_count": null,
      "outputs": []
    },
    {
      "cell_type": "code",
      "source": [
        "# Let's print only the odd numbers from a list\n",
        "mlist = [1,22,332,42,51,6,237,8,93,10, 55, 65, 76, 23, 87, 23, 9,41, 45, 66]\n",
        "for number in mlist:\n",
        "  if number % 2 != 0:\n",
        "    print(number)\n",
        "  else:\n",
        "    print('Even Number')"
      ],
      "metadata": {
        "id": "SgbVy-PjUxZA"
      },
      "execution_count": null,
      "outputs": []
    },
    {
      "cell_type": "code",
      "source": [
        "# Start sum at zero\n",
        "list_sum = 0 \n",
        "\n",
        "for num in l:\n",
        "    list_sum = list_sum + num\n",
        "\n",
        "print(list_sum)"
      ],
      "metadata": {
        "id": "LCy8DYZMXaG6"
      },
      "execution_count": null,
      "outputs": []
    },
    {
      "cell_type": "code",
      "source": [
        "for letter in 'This is a string.':\n",
        "    print(letter)"
      ],
      "metadata": {
        "id": "BV9ldKmoXbnv"
      },
      "execution_count": null,
      "outputs": []
    },
    {
      "cell_type": "code",
      "source": [
        "l = [(2,4),(6,8),(10,12)]\n",
        "for tup in l:\n",
        "    print(tup)"
      ],
      "metadata": {
        "id": "FvHaV-D4Xblh"
      },
      "execution_count": null,
      "outputs": []
    },
    {
      "cell_type": "code",
      "source": [
        "# Now with unpacking!\n",
        "for (t1,t2) in l:\n",
        "    print(t1)"
      ],
      "metadata": {
        "id": "inuqawenXbjQ"
      },
      "execution_count": null,
      "outputs": []
    },
    {
      "cell_type": "code",
      "source": [
        "d = {'k1':1,'k2':2,'k3':3}"
      ],
      "metadata": {
        "id": "_ApjZwRzXbg7"
      },
      "execution_count": null,
      "outputs": []
    },
    {
      "cell_type": "code",
      "source": [
        "for item in d:\n",
        "    print(item)"
      ],
      "metadata": {
        "colab": {
          "base_uri": "https://localhost:8080/"
        },
        "id": "U-h0mABdXbet",
        "outputId": "3c46653c-f508-4a75-c0a6-beb3c03dc67d"
      },
      "execution_count": null,
      "outputs": [
        {
          "output_type": "stream",
          "name": "stdout",
          "text": [
            "k1\n",
            "k2\n",
            "k3\n"
          ]
        }
      ]
    },
    {
      "cell_type": "code",
      "source": [
        "for k,v in d.items():\n",
        "    print(k)\n",
        "    print(v)  "
      ],
      "metadata": {
        "colab": {
          "base_uri": "https://localhost:8080/"
        },
        "id": "v57tXUXrXg-x",
        "outputId": "e8d9f7ee-a5b3-4adf-a208-f1d6b2beb664"
      },
      "execution_count": null,
      "outputs": [
        {
          "output_type": "stream",
          "name": "stdout",
          "text": [
            "k1\n",
            "1\n",
            "k2\n",
            "2\n",
            "k3\n",
            "3\n"
          ]
        }
      ]
    }
  ]
}