{
  "nbformat": 4,
  "nbformat_minor": 0,
  "metadata": {
    "colab": {
      "name": "Day 7 Frontend Projects.ipynb",
      "provenance": [],
      "authorship_tag": "ABX9TyM4FlapAtXgmtoAZJBlU8zH",
      "include_colab_link": true
    },
    "kernelspec": {
      "name": "python3",
      "display_name": "Python 3"
    },
    "language_info": {
      "name": "python"
    }
  },
  "cells": [
    {
      "cell_type": "markdown",
      "metadata": {
        "id": "view-in-github",
        "colab_type": "text"
      },
      "source": [
        "<a href=\"https://colab.research.google.com/github/vincepogz/CUNY2X-TTP-Notes/blob/main/Day_7_Frontend_Projects.ipynb\" target=\"_parent\"><img src=\"https://colab.research.google.com/assets/colab-badge.svg\" alt=\"Open In Colab\"/></a>"
      ]
    },
    {
      "cell_type": "markdown",
      "source": [
        "# Dad Jokes"
      ],
      "metadata": {
        "id": "xhZvMVAdht-G"
      }
    },
    {
      "cell_type": "markdown",
      "source": [
        "# Index.html\n"
      ],
      "metadata": {
        "id": "XggR0eiMiQ2G"
      }
    },
    {
      "cell_type": "markdown",
      "source": [
        "#Style.css"
      ],
      "metadata": {
        "id": "QKIGvC1qiTTS"
      }
    },
    {
      "cell_type": "markdown",
      "source": [
        "#Script.js"
      ],
      "metadata": {
        "id": "Oiqmfph1iUiN"
      }
    }
  ]
}