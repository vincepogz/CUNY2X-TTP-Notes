{
  "nbformat": 4,
  "nbformat_minor": 0,
  "metadata": {
    "colab": {
      "name": "Day 7 Frontend Projects.ipynb",
      "provenance": [],
      "collapsed_sections": [],
      "authorship_tag": "ABX9TyPMdXNc4njaKRQNotcWlTp/",
      "include_colab_link": true
    },
    "kernelspec": {
      "name": "python3",
      "display_name": "Python 3"
    },
    "language_info": {
      "name": "python"
    }
  },
  "cells": [
    {
      "cell_type": "markdown",
      "metadata": {
        "id": "view-in-github",
        "colab_type": "text"
      },
      "source": [
        "<a href=\"https://colab.research.google.com/github/vincepogz/CUNY2X-TTP-Notes/blob/main/Day_7_Frontend_Projects.ipynb\" target=\"_parent\"><img src=\"https://colab.research.google.com/assets/colab-badge.svg\" alt=\"Open In Colab\"/></a>"
      ]
    },
    {
      "cell_type": "markdown",
      "source": [
        "# Dad Jokes"
      ],
      "metadata": {
        "id": "xhZvMVAdht-G"
      }
    },
    {
      "cell_type": "markdown",
      "source": [
        "# Index.html\n"
      ],
      "metadata": {
        "id": "XggR0eiMiQ2G"
      }
    },
    {
      "cell_type": "code",
      "source": [
        "<!DOCTYPE html>\n",
        "\n",
        "<html>\n",
        "    <head>\n",
        "        <meta charset=\"utf-8\">\n",
        "        <meta http-equiv=\"X-UA-Compatible\" content=\"IE=edge\">\n",
        "        <title>Dad Jokes</title>\n",
        "        <meta name=\"description\" content=\"\">\n",
        "        <meta name=\"viewport\" content=\"width=device-width, initial-scale=1\">\n",
        "        <link rel=\"stylesheet\" href=\"style.css\">\n",
        "    </head>\n",
        "    <body>\n",
        "        <div class=\"container\">\n",
        "            <h3>Don't Laugh Challenge</h3>\n",
        "            <div id=\"joke\" class=\"joke\">// Jokes goes here</div>\n",
        "            <button id=\"jokeBtn\" class=\"btn\">Get Another Joke</button>\n",
        "        </div>\n",
        " \n",
        "        <script src=\"script.js\"></script>\n",
        "    </body>\n",
        "</html>"
      ],
      "metadata": {
        "id": "QbQeSTTFoAsE"
      },
      "execution_count": null,
      "outputs": []
    },
    {
      "cell_type": "markdown",
      "source": [
        "#Style.css"
      ],
      "metadata": {
        "id": "QKIGvC1qiTTS"
      }
    },
    {
      "cell_type": "code",
      "source": [
        "@import url('https://fonts.googleapis.com/css2?family=Roboto:wght@400;700&display=swap');\n",
        "\n",
        "* {\n",
        "    box-sizing: border-box;\n",
        "}\n",
        "\n",
        "body {\n",
        "    background-color: #686de0;\n",
        "    font-family: 'Roboto', sans-serif;\n",
        "    display: flex;\n",
        "    flex-direction: column;\n",
        "    align-items: center;\n",
        "    justify-content: center;\n",
        "    height: 100vh;\n",
        "    overflow: hidden;\n",
        "    margin: 0;\n",
        "    padding: 20px;\n",
        "  }\n",
        "  \n",
        "  .container {\n",
        "    background-color: #fff;\n",
        "    border-radius: 10px;\n",
        "    box-shadow: 0 10px 20px rgba(0, 0, 0, 0.1), 0 6px 6px rgba(0, 0, 0, 0.1);\n",
        "    padding: 50px 20px;\n",
        "    text-align: center;\n",
        "    max-width: 100%;\n",
        "    width: 800px;\n",
        "  }\n",
        "\n",
        "  h3 {\n",
        "    margin: 0;\n",
        "    opacity: 0.5;\n",
        "    letter-spacing: 2px;\n",
        "  }\n",
        "\n",
        "  .joke {\n",
        "    font-size: 30px;\n",
        "    letter-spacing: 1px;\n",
        "    line-height: 40px;\n",
        "    margin: 50px auto;\n",
        "    max-width: 600px;\n",
        "  }\n",
        "\n",
        "  .btn {\n",
        "    background-color: #9f68e0;\n",
        "    color: #fff;\n",
        "    border: 0;\n",
        "    border-radius: 10px;\n",
        "    box-shadow: 0 5px 15px rgba(0, 0, 0, 0.1), 0 6px 6px rgba(0, 0, 0, 0.1);\n",
        "    padding: 14px 40px;\n",
        "    font-size: 16px;\n",
        "    cursor: pointer;\n",
        "  }\n",
        "\n",
        "  .btn:active {\n",
        "    transform: scale(0.98);\n",
        "  }\n",
        "  \n",
        "  .btn:focus {\n",
        "    outline: 0;\n",
        "  }\n",
        "  "
      ],
      "metadata": {
        "id": "7WgW4mwon-YC"
      },
      "execution_count": null,
      "outputs": []
    },
    {
      "cell_type": "markdown",
      "source": [
        "#Script.js"
      ],
      "metadata": {
        "id": "Oiqmfph1iUiN"
      }
    },
    {
      "cell_type": "code",
      "source": [
        "const jokeEl = document.getElementById('joke')\n",
        "const jokeBtn = document.getElementById('jokeBtn')\n",
        "\n",
        "jokeBtn.addEventListener('click', generateJoke)\n",
        "\n",
        "generateJoke()\n",
        "\n",
        "// USING ASYNC/AWAIT\n",
        "\n",
        "async function generateJoke() {\n",
        "    const config = {\n",
        "        headers: {\n",
        "            Accept: 'application/json',\n",
        "        },\n",
        "    }\n",
        "\n",
        "    const rest = await fetch('https://icanhazdadjoke.com', config)\n",
        "\n",
        "    const data = await rest.json()\n",
        "\n",
        "    jokeEl.innerHTML = data.joke\n",
        "}"
      ],
      "metadata": {
        "id": "cnDbZALDoCq6"
      },
      "execution_count": null,
      "outputs": []
    }
  ]
}