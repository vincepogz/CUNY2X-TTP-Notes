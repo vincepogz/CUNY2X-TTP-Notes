{
  "nbformat": 4,
  "nbformat_minor": 0,
  "metadata": {
    "colab": {
      "name": "Day 3 Warmup.ipynb",
      "provenance": [],
      "collapsed_sections": [],
      "authorship_tag": "ABX9TyOt9BSBOmsK1/TxJZDjit5j",
      "include_colab_link": true
    },
    "kernelspec": {
      "name": "python3",
      "display_name": "Python 3"
    },
    "language_info": {
      "name": "python"
    }
  },
  "cells": [
    {
      "cell_type": "markdown",
      "metadata": {
        "id": "view-in-github",
        "colab_type": "text"
      },
      "source": [
        "<a href=\"https://colab.research.google.com/github/vincepogz/CUNY2X-TTP-Notes/blob/main/Day_3_Warmup.ipynb\" target=\"_parent\"><img src=\"https://colab.research.google.com/assets/colab-badge.svg\" alt=\"Open In Colab\"/></a>"
      ]
    },
    {
      "cell_type": "markdown",
      "source": [
        "#DAY 3 WARMUP\n",
        "##by: Vince Pamolarco"
      ],
      "metadata": {
        "id": "5S-82bBbBLDj"
      }
    },
    {
      "cell_type": "markdown",
      "source": [
        "#1. CREATE A LIST THAT HOLDS 5 DATA VARIABLES"
      ],
      "metadata": {
        "id": "m-XKpnXf7dfj"
      }
    },
    {
      "cell_type": "code",
      "source": [
        "#Creating my list \"mylist5\"\n",
        "mylist5 = ['NYC', 123, True, float(100.0), bool(0) ]\n",
        "mylist5 #display mylist5"
      ],
      "metadata": {
        "colab": {
          "base_uri": "https://localhost:8080/"
        },
        "id": "mVngegWV_3UR",
        "outputId": "916b16c8-3a1c-432f-d715-6c0b19dc6dbe"
      },
      "execution_count": 67,
      "outputs": [
        {
          "output_type": "execute_result",
          "data": {
            "text/plain": [
              "['NYC', 123, True, 100.0, False]"
            ]
          },
          "metadata": {},
          "execution_count": 67
        }
      ]
    },
    {
      "cell_type": "markdown",
      "source": [
        "#2. CREATE A LIST THAT HOLDS 10 VALUES"
      ],
      "metadata": {
        "id": "DLIJKFfU9_wj"
      }
    },
    {
      "cell_type": "code",
      "source": [
        "#Creating \"mylist10\"\n",
        "mylist10 = [13, 29, 21, 92, 192, 30, 291, 425, 9, 100]\n",
        "mylist10 #display values of mylist10"
      ],
      "metadata": {
        "colab": {
          "base_uri": "https://localhost:8080/"
        },
        "id": "Xvezi_-OAUJu",
        "outputId": "d40aa434-54ac-429c-f601-c47c22290e1f"
      },
      "execution_count": 2,
      "outputs": [
        {
          "output_type": "execute_result",
          "data": {
            "text/plain": [
              "[13, 29, 21, 92, 192, 30, 291, 425, 9, 100]"
            ]
          },
          "metadata": {},
          "execution_count": 2
        }
      ]
    },
    {
      "cell_type": "markdown",
      "source": [
        "#3. CREATE A SIMPLE DICTIONARY THAT STORES 2 VARIABLES\n",
        "\n",
        "##For example: First and last name\n"
      ],
      "metadata": {
        "id": "r-ELW64V-C09"
      }
    },
    {
      "cell_type": "code",
      "source": [
        "#Creating my dictionary \"mydict2\"\n",
        "mydict2 = {'key1':['Vince','Pamolarco'], 'key2':['Genghis','Khan']}\n",
        "mydict2 #Display keys and value of \"mydict2\""
      ],
      "metadata": {
        "colab": {
          "base_uri": "https://localhost:8080/"
        },
        "id": "PJeMni79Alty",
        "outputId": "932404f2-60cd-4b2c-b253-d08d805fba05"
      },
      "execution_count": 13,
      "outputs": [
        {
          "output_type": "execute_result",
          "data": {
            "text/plain": [
              "{'key1': ['Vince', 'Pamolarco'], 'key2': ['Genghis', 'Khan']}"
            ]
          },
          "metadata": {},
          "execution_count": 13
        }
      ]
    },
    {
      "cell_type": "markdown",
      "source": [
        "#4. PRINT OUT THOSE VARIABLES STORED IN YOUR PREVIOUS DICTIONARY\n",
        "\n"
      ],
      "metadata": {
        "id": "8m7NXBjP-bZf"
      }
    },
    {
      "cell_type": "code",
      "source": [
        "#Display values of key1 in mydict2\n",
        "mydict2['key1']"
      ],
      "metadata": {
        "colab": {
          "base_uri": "https://localhost:8080/"
        },
        "id": "MT1qWiTuAzqQ",
        "outputId": "88130d37-0c91-44cf-c0ea-048c352b3987"
      },
      "execution_count": 14,
      "outputs": [
        {
          "output_type": "execute_result",
          "data": {
            "text/plain": [
              "['Vince', 'Pamolarco']"
            ]
          },
          "metadata": {},
          "execution_count": 14
        }
      ]
    },
    {
      "cell_type": "markdown",
      "source": [
        "#5. PRINT OUT THOSE VARIABLES ON PRINTING\n",
        "\n",
        "##For example: \"Hello, firstname lastname!\""
      ],
      "metadata": {
        "id": "2sXbYifV-iy_"
      }
    },
    {
      "cell_type": "code",
      "source": [
        "#In a sentence, display value in \"mydict2\"\n",
        "print('Hello,', mydict2['key1'][0], mydict2['key1'][1], '!')"
      ],
      "metadata": {
        "colab": {
          "base_uri": "https://localhost:8080/"
        },
        "id": "9pUMqLYZBWnb",
        "outputId": "17e43091-b077-4f9c-f81a-dbda771bf0d5"
      },
      "execution_count": 21,
      "outputs": [
        {
          "output_type": "stream",
          "name": "stdout",
          "text": [
            "Hello, Vince Pamolarco !\n"
          ]
        }
      ]
    },
    {
      "cell_type": "markdown",
      "source": [
        "#6. CREATE A DICTIONARY THAT HOLDS 2 KEY: VALUE PAIRS"
      ],
      "metadata": {
        "id": "ZfpPr51i-31Q"
      }
    },
    {
      "cell_type": "code",
      "source": [
        "#Creating mydict_pairs\n",
        "mydict_pairs = {'key1':'NYC','key2':'Tech','key3':'Talent','key4':'Pipeline'}\n",
        "mydict_pairs"
      ],
      "metadata": {
        "colab": {
          "base_uri": "https://localhost:8080/"
        },
        "id": "CR82ZLl7C5nx",
        "outputId": "6ace619b-d696-4d1e-cd30-50e674b05983"
      },
      "execution_count": 22,
      "outputs": [
        {
          "output_type": "execute_result",
          "data": {
            "text/plain": [
              "{'key1': 'NYC', 'key2': 'Tech', 'key3': 'Talent', 'key4': 'Pipeline'}"
            ]
          },
          "metadata": {},
          "execution_count": 22
        }
      ]
    },
    {
      "cell_type": "markdown",
      "source": [
        "#7. LOOK THROUGH YOUR DICTIONARY AND PRINT EACH PAIR"
      ],
      "metadata": {
        "id": "2CbaGmw8--m-"
      }
    },
    {
      "cell_type": "code",
      "source": [
        "#Using for-loop, display values by their keys\n",
        "for i in mydict_pairs:\n",
        "  print(mydict_pairs[i])"
      ],
      "metadata": {
        "colab": {
          "base_uri": "https://localhost:8080/"
        },
        "id": "rQH0l2V1DTMc",
        "outputId": "501206bd-5e60-41a9-b563-e82eaacf3c35"
      },
      "execution_count": 26,
      "outputs": [
        {
          "output_type": "stream",
          "name": "stdout",
          "text": [
            "NYC\n",
            "Tech\n",
            "Talent\n",
            "Pipeline\n"
          ]
        }
      ]
    },
    {
      "cell_type": "markdown",
      "source": [
        "#8.CREATE A NESTED DICTIONARY CONTAINING THREE DICTIONARIES\n",
        "\n",
        "##These dictionaries could be anything (favorite pets, travel locations, etc.)"
      ],
      "metadata": {
        "id": "fDQf0BVG_C2J"
      }
    },
    {
      "cell_type": "code",
      "source": [
        "#Setting up dictionary\n",
        "Mah_Favorite = {'Pet':'Dog', 'Place': 'NYC', 'Name':'Vince'}\n",
        "#Display dictionary\n",
        "Mah_Favorite"
      ],
      "metadata": {
        "colab": {
          "base_uri": "https://localhost:8080/"
        },
        "id": "m1TdhNrXELkO",
        "outputId": "12e64ef6-b4a1-4c95-a58f-f29647ba3d49"
      },
      "execution_count": 81,
      "outputs": [
        {
          "output_type": "execute_result",
          "data": {
            "text/plain": [
              "{'Name': 'Vince', 'Pet': 'Dog', 'Place': 'NYC'}"
            ]
          },
          "metadata": {},
          "execution_count": 81
        }
      ]
    },
    {
      "cell_type": "markdown",
      "source": [
        "#9. LOOP THROUGH THE DICTIONARIES AND PRINT A MESSAGE FOR EACH"
      ],
      "metadata": {
        "id": "iI81TPv5_Nc5"
      }
    },
    {
      "cell_type": "code",
      "source": [
        "#For-loop Mah_Favorite\n",
        "for i in Mah_Favorite:\n",
        "\n",
        "  #Print every key and value of Mah_Favorite\n",
        "  print('My favorite', i, 'is: ', Mah_Favorite[i])\n",
        "\n"
      ],
      "metadata": {
        "colab": {
          "base_uri": "https://localhost:8080/"
        },
        "id": "S5rHgkotEsNk",
        "outputId": "5de7c6c3-b739-450c-f984-2f2942c2190a"
      },
      "execution_count": 82,
      "outputs": [
        {
          "output_type": "stream",
          "name": "stdout",
          "text": [
            "My favorite Pet is:  Dog\n",
            "My favorite Place is:  NYC\n",
            "My favorite Name is:  Vince\n"
          ]
        }
      ]
    },
    {
      "cell_type": "markdown",
      "source": [
        "#10. WRITE A PROGRAM THAT TAKES A GROUP OF NUMBERS AND CHECKS IF THE GROUP ARE THE SAME OR DIFFERENT"
      ],
      "metadata": {
        "id": "KBcPvu1Z_Swr"
      }
    },
    {
      "cell_type": "code",
      "source": [
        "list1 = (1,2,4)\n",
        "list2 = (1,2,3)\n",
        "#10 Initializes 2 tuples\n",
        "\n",
        "if(list1 == list2):\n",
        "  #checks if both tuples have the same values\n",
        " print('they match')\n",
        "else:\n",
        "  #if they don't match it will print out that they don't match\n",
        "  print('they don\\'t match')"
      ],
      "metadata": {
        "colab": {
          "base_uri": "https://localhost:8080/"
        },
        "id": "o2Mlufh1Snv9",
        "outputId": "2c3d27a3-0a19-43dc-849d-00e5ddb2487b"
      },
      "execution_count": 66,
      "outputs": [
        {
          "output_type": "stream",
          "name": "stdout",
          "text": [
            "they don't match\n"
          ]
        }
      ]
    },
    {
      "cell_type": "markdown",
      "source": [
        "#11. GENERATE A LIST OF FIVE NUMBERS"
      ],
      "metadata": {
        "id": "zJ2jKa6Z_X6C"
      }
    },
    {
      "cell_type": "code",
      "source": [
        "import random\n",
        "#import random library\n",
        "\n",
        "list_x = []\n",
        "#create an empty list\n",
        "\n",
        "for i in range(5):\n",
        "#a loop runs from zero to 5\n",
        "  x = random.randrange(20, 100, 3)\n",
        "  #x is generated in the range is 20 to 100, skipping 3\n",
        "  list_x.append(x)\n",
        "  #send the value of x just generated to the empty list's end\n",
        "\n",
        "list_x\n",
        "#call list"
      ],
      "metadata": {
        "colab": {
          "base_uri": "https://localhost:8080/"
        },
        "id": "cNT-jouuW_UX",
        "outputId": "e44d9f5d-6732-49ba-9e7c-deb05fe05cc2"
      },
      "execution_count": 88,
      "outputs": [
        {
          "output_type": "execute_result",
          "data": {
            "text/plain": [
              "[68, 68, 29, 95, 44]"
            ]
          },
          "metadata": {},
          "execution_count": 88
        }
      ]
    },
    {
      "cell_type": "markdown",
      "source": [
        "#12. WRITE A PROGRAM TO CREATE ALL POSSIBLE COMBOS OF VOWELS USING EACH VOWEL ONCE."
      ],
      "metadata": {
        "id": "nW4RDDV2_a__"
      }
    },
    {
      "cell_type": "code",
      "source": [
        "#list all vowels in dictonary\n",
        "vowels = ('a','e','i','o','u')\n",
        "\n",
        "for i in vowels: #For-loop by first letter\n",
        "  for j in vowels: #For-loop by second letter\n",
        "    print(i+j)      #Print combo\n"
      ],
      "metadata": {
        "colab": {
          "base_uri": "https://localhost:8080/"
        },
        "id": "0W1W7dnkXmNA",
        "outputId": "ee1668c8-16d1-4307-c103-ca73144447a9"
      },
      "execution_count": 87,
      "outputs": [
        {
          "output_type": "stream",
          "name": "stdout",
          "text": [
            "aa\n",
            "ae\n",
            "ai\n",
            "ao\n",
            "au\n",
            "ea\n",
            "ee\n",
            "ei\n",
            "eo\n",
            "eu\n",
            "ia\n",
            "ie\n",
            "ii\n",
            "io\n",
            "iu\n",
            "oa\n",
            "oe\n",
            "oi\n",
            "oo\n",
            "ou\n",
            "ua\n",
            "ue\n",
            "ui\n",
            "uo\n",
            "uu\n"
          ]
        }
      ]
    },
    {
      "cell_type": "markdown",
      "source": [
        "#13. WRITE A PROGRAM TO REMOVE AND PRINT EVERY THIRD NUMBER FROM A LIST UNTIL THE LIST IS EMPTY."
      ],
      "metadata": {
        "id": "shuDfhaD_hWh"
      }
    },
    {
      "cell_type": "code",
      "source": [
        "\n",
        "list_y = [1,2,3,4,5,6,7,8,9,10]\n",
        "#create a list with 10 items\n",
        "while(len(list_y) > 2):\n",
        "  #while the length of list y is larger than 2\n",
        "  print(list_y.pop(2))\n",
        "  #print and delete the third item\n",
        "\n",
        "print(list_y)\n",
        "#print out what has left in the list\n",
        "\n",
        "if(len(list_y))<3:\n",
        "  #if the list's length is smaller than 3\n",
        "  list_y = []\n",
        "  #empty the list\n",
        "\n",
        "print(list_y)\n",
        "#print empty list"
      ],
      "metadata": {
        "id": "0E4ZZdPJiP9R"
      },
      "execution_count": null,
      "outputs": []
    },
    {
      "cell_type": "markdown",
      "source": [
        "#14. WRITE A PROGRAM THAT PRINT A LIST OF 10 RANDOM NUMBERS."
      ],
      "metadata": {
        "id": "9VgrKoSC_mwM"
      }
    },
    {
      "cell_type": "code",
      "source": [
        "import random\n",
        "#import random library\n",
        "\n",
        "list_x = []\n",
        "#create an empty list\n",
        "\n",
        "for i in range(10):\n",
        "#a loop runs from zero to 5\n",
        "  x = random.randrange(20, 100, 3)\n",
        "  #x is generated in the range is 20 to 100, skipping 3\n",
        "  list_x.append(x)\n",
        "  #send the value of x just generated to the empty list's end\n",
        "\n",
        "list_x\n",
        "#call list"
      ],
      "metadata": {
        "colab": {
          "base_uri": "https://localhost:8080/"
        },
        "id": "mPQOjbELdpzY",
        "outputId": "9e7c5d4a-6c39-49d2-844f-20c6ac708b3e"
      },
      "execution_count": 89,
      "outputs": [
        {
          "output_type": "execute_result",
          "data": {
            "text/plain": [
              "[44, 44, 65, 23, 38, 35, 20, 41, 77, 74]"
            ]
          },
          "metadata": {},
          "execution_count": 89
        }
      ]
    },
    {
      "cell_type": "markdown",
      "source": [
        "#15. WRITE A PROGRAM TO SUM UP THREE NUMBERS FROM A LIST"
      ],
      "metadata": {
        "id": "wu1u6lUj_ru5"
      }
    },
    {
      "cell_type": "code",
      "source": [
        "\n",
        "list_o = [1,2,3]\n",
        "#three items in a list\n",
        "sum = 0\n",
        "#initialise sum = 0\n",
        "\n",
        "for i in range(3):\n",
        "  #loop that goes 3 times\n",
        "  sum += list_o[i]\n",
        "  #add the item to sum\n",
        "\n",
        "print(sum)\n",
        "#print sum"
      ],
      "metadata": {
        "id": "157tJLAiiLwR"
      },
      "execution_count": null,
      "outputs": []
    }
  ]
}