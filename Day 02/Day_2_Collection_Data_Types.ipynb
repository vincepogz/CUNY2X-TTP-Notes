{
  "nbformat": 4,
  "nbformat_minor": 0,
  "metadata": {
    "colab": {
      "name": "Day 2 Collection Data Types.ipynb",
      "provenance": [],
      "collapsed_sections": [
        "W3ijrYmM27U5",
        "4REdjYqs5nG_",
        "ev9YAWrZ8uYY",
        "ep2LJ6uP91FW",
        "0mJcJuBhAsd7"
      ],
      "authorship_tag": "ABX9TyPm4TpMBqyEpWMK/qfsrDGx",
      "include_colab_link": true
    },
    "kernelspec": {
      "name": "python3",
      "display_name": "Python 3"
    },
    "language_info": {
      "name": "python"
    }
  },
  "cells": [
    {
      "cell_type": "markdown",
      "metadata": {
        "id": "view-in-github",
        "colab_type": "text"
      },
      "source": [
        "<a href=\"https://colab.research.google.com/github/vincepogz/CUNY2X-TTP-Notes/blob/main/Day_2_Collection_Data_Types.ipynb\" target=\"_parent\"><img src=\"https://colab.research.google.com/assets/colab-badge.svg\" alt=\"Open In Colab\"/></a>"
      ]
    },
    {
      "cell_type": "markdown",
      "source": [
        "#Collection Data Types\n",
        "\n",
        "Lists, Dictionaries & Tuples\n",
        "\n",
        "##Lists\n",
        "\n",
        "Lists can be thought of the most general version of a sequence in Python. Unlike strings, they are mutable (dynamic), meaning the elements inside a list can change.\n",
        "\n"
      ],
      "metadata": {
        "id": "sIbqPddA1XOY"
      }
    },
    {
      "cell_type": "markdown",
      "source": [
        "##Indexing and Slicing"
      ],
      "metadata": {
        "id": "W3ijrYmM27U5"
      }
    },
    {
      "cell_type": "code",
      "source": [
        "#Assign a list to an variable name my_list\n",
        "my_list = [1,2,3]\n",
        "my_list"
      ],
      "metadata": {
        "colab": {
          "base_uri": "https://localhost:8080/"
        },
        "id": "DiE9ypBi10si",
        "outputId": "01de94ac-85f9-4be6-a1cc-0afe5231244d"
      },
      "execution_count": 1,
      "outputs": [
        {
          "output_type": "execute_result",
          "data": {
            "text/plain": [
              "[1, 2, 3]"
            ]
          },
          "metadata": {},
          "execution_count": 1
        }
      ]
    },
    {
      "cell_type": "code",
      "source": [
        "#Re-assigning my_list\n",
        "my_list = ['A string', 23, 100.323, 'o']\n",
        "my_list"
      ],
      "metadata": {
        "colab": {
          "base_uri": "https://localhost:8080/"
        },
        "id": "79CUrxhI1_D3",
        "outputId": "0a59b4cc-c092-4ecd-96d9-ff9e7fcff3af"
      },
      "execution_count": 2,
      "outputs": [
        {
          "output_type": "execute_result",
          "data": {
            "text/plain": [
              "['A string', 23, 100.323, 'o']"
            ]
          },
          "metadata": {},
          "execution_count": 2
        }
      ]
    },
    {
      "cell_type": "code",
      "source": [
        "#To get the size of my_list\n",
        "len(my_list)"
      ],
      "metadata": {
        "colab": {
          "base_uri": "https://localhost:8080/"
        },
        "id": "WEdmnT4V2JjE",
        "outputId": "6a76c116-c75d-4538-84b8-f5c5ac89376a"
      },
      "execution_count": 3,
      "outputs": [
        {
          "output_type": "execute_result",
          "data": {
            "text/plain": [
              "4"
            ]
          },
          "metadata": {},
          "execution_count": 3
        }
      ]
    },
    {
      "cell_type": "code",
      "source": [
        "#Grab everything past \"1\"\n",
        "print(my_list[1:])"
      ],
      "metadata": {
        "colab": {
          "base_uri": "https://localhost:8080/"
        },
        "id": "boVvLbvz2hid",
        "outputId": "d4390670-a6bf-4d9f-9511-699fcbdd8aa9"
      },
      "execution_count": 4,
      "outputs": [
        {
          "output_type": "stream",
          "name": "stdout",
          "text": [
            "[23, 100.323, 'o']\n"
          ]
        }
      ]
    },
    {
      "cell_type": "code",
      "source": [
        "#Grab everything up to \"3\"\n",
        "print(my_list[:3])"
      ],
      "metadata": {
        "colab": {
          "base_uri": "https://localhost:8080/"
        },
        "id": "1G33R_w12pTk",
        "outputId": "d6b665b2-0825-42fe-df46-6a1718da1817"
      },
      "execution_count": 5,
      "outputs": [
        {
          "output_type": "stream",
          "name": "stdout",
          "text": [
            "['A string', 23, 100.323]\n"
          ]
        }
      ]
    },
    {
      "cell_type": "code",
      "source": [
        "#We can also use + to concatenate lists, just like we did for strings\n",
        "my_list + ['new item']"
      ],
      "metadata": {
        "id": "fECi8fcA3K-q"
      },
      "execution_count": null,
      "outputs": []
    },
    {
      "cell_type": "code",
      "source": [
        "#Note: this doesn't actually change the original list\n",
        "my_list"
      ],
      "metadata": {
        "colab": {
          "base_uri": "https://localhost:8080/"
        },
        "id": "2VE7JQ5Y3iVn",
        "outputId": "653b28fc-b437-43d4-a906-71bd1b7e19f4"
      },
      "execution_count": 7,
      "outputs": [
        {
          "output_type": "execute_result",
          "data": {
            "text/plain": [
              "['A string', 23, 100.323, 'o']"
            ]
          },
          "metadata": {},
          "execution_count": 7
        }
      ]
    },
    {
      "cell_type": "code",
      "source": [
        "# we would have to reassign the list to make the change permanent.\n",
        "# Reassign\n",
        "my_list = my_list + ['add new item permanently']"
      ],
      "metadata": {
        "id": "1k--oUxZ4FC9"
      },
      "execution_count": null,
      "outputs": []
    },
    {
      "cell_type": "code",
      "source": [
        "#Reassigning using append method/function\n",
        "#Append is used to add something\n",
        "my_list.append('something')\n",
        "\n",
        "#Note: concantenate is used to combine two elements"
      ],
      "metadata": {
        "id": "pYebOM884Hsr"
      },
      "execution_count": 10,
      "outputs": []
    },
    {
      "cell_type": "code",
      "source": [
        "#We can double the size of the list (even the elements)\n",
        "my_list * 2"
      ],
      "metadata": {
        "colab": {
          "base_uri": "https://localhost:8080/"
        },
        "id": "hhh9F8ty5M0k",
        "outputId": "1b793d13-81a7-423f-f8e6-9cc74d99bdf8"
      },
      "execution_count": 11,
      "outputs": [
        {
          "output_type": "execute_result",
          "data": {
            "text/plain": [
              "['A string',\n",
              " 23,\n",
              " 100.323,\n",
              " 'o',\n",
              " 'something',\n",
              " 'A string',\n",
              " 23,\n",
              " 100.323,\n",
              " 'o',\n",
              " 'something']"
            ]
          },
          "metadata": {},
          "execution_count": 11
        }
      ]
    },
    {
      "cell_type": "markdown",
      "source": [
        "##Basic List Method\n"
      ],
      "metadata": {
        "id": "4REdjYqs5nG_"
      }
    },
    {
      "cell_type": "code",
      "source": [
        "# Create a new list\n",
        "l = [1,2,3]"
      ],
      "metadata": {
        "id": "D_Gf-vSM5pQM"
      },
      "execution_count": 17,
      "outputs": []
    },
    {
      "cell_type": "code",
      "source": [
        "# Append\n",
        "l.append('append me!')"
      ],
      "metadata": {
        "id": "0eoKxaq88GGh"
      },
      "execution_count": 18,
      "outputs": []
    },
    {
      "cell_type": "code",
      "source": [
        "#Use pop to \"pop off\" an item from the list. By default pop takes off the last index, \n",
        "# but you can also specify which index to pop off. \n",
        "l.pop()\n",
        "l.pop(1)"
      ],
      "metadata": {
        "colab": {
          "base_uri": "https://localhost:8080/"
        },
        "id": "sh4pAksE8J5H",
        "outputId": "2c4a2f70-5795-4c43-9a1c-948131f663fd"
      },
      "execution_count": 19,
      "outputs": [
        {
          "output_type": "execute_result",
          "data": {
            "text/plain": [
              "2"
            ]
          },
          "metadata": {},
          "execution_count": 19
        }
      ]
    },
    {
      "cell_type": "code",
      "source": [
        "l"
      ],
      "metadata": {
        "colab": {
          "base_uri": "https://localhost:8080/"
        },
        "id": "RMEYd2av8hOW",
        "outputId": "2b4b9314-4c98-43a8-821f-613c6ebb9755"
      },
      "execution_count": 20,
      "outputs": [
        {
          "output_type": "execute_result",
          "data": {
            "text/plain": [
              "[1, 3]"
            ]
          },
          "metadata": {},
          "execution_count": 20
        }
      ]
    },
    {
      "cell_type": "markdown",
      "source": [
        "## The sort and reverse methods"
      ],
      "metadata": {
        "id": "ev9YAWrZ8uYY"
      }
    },
    {
      "cell_type": "code",
      "source": [
        "new_list = ['a','e','x','b','c']\n",
        "new_list"
      ],
      "metadata": {
        "id": "ZD3l8gnx8wSx"
      },
      "execution_count": null,
      "outputs": []
    },
    {
      "cell_type": "code",
      "source": [
        "# Use reverse to reverse order (this is permanent!)\n",
        "new_list.reverse()"
      ],
      "metadata": {
        "id": "bIXcZdYa8zgx"
      },
      "execution_count": null,
      "outputs": []
    },
    {
      "cell_type": "code",
      "source": [
        "new_list"
      ],
      "metadata": {
        "id": "soDQTph_81KN"
      },
      "execution_count": null,
      "outputs": []
    },
    {
      "cell_type": "markdown",
      "source": [
        "##Dictionaries"
      ],
      "metadata": {
        "id": "ep2LJ6uP91FW"
      }
    },
    {
      "cell_type": "code",
      "source": [
        "# Make a dictionary with {} and : to signify a key and a value\n",
        "my_dict = {'key1':'value1','key2':'value2'}"
      ],
      "metadata": {
        "id": "fN18Kp8q93SZ"
      },
      "execution_count": 33,
      "outputs": []
    },
    {
      "cell_type": "code",
      "source": [
        "# Call values by their key\n",
        "my_dict['key2']"
      ],
      "metadata": {
        "colab": {
          "base_uri": "https://localhost:8080/",
          "height": 36
        },
        "id": "Y68X71IH94f0",
        "outputId": "61e5691e-fded-4d64-c29b-0827ba54836c"
      },
      "execution_count": 34,
      "outputs": [
        {
          "output_type": "execute_result",
          "data": {
            "application/vnd.google.colaboratory.intrinsic+json": {
              "type": "string"
            },
            "text/plain": [
              "'value2'"
            ]
          },
          "metadata": {},
          "execution_count": 34
        }
      ]
    },
    {
      "cell_type": "code",
      "source": [
        "# Its important to note that dictionaries are very flexible in the data types they can hold.\n",
        "my_dict = {'key1':123,'key2':[12,23,33],'key3':['item0','item1','item2']}"
      ],
      "metadata": {
        "id": "cAvIBlpd-g4z"
      },
      "execution_count": 35,
      "outputs": []
    },
    {
      "cell_type": "code",
      "source": [
        "#Lets call items from the dictionary\n",
        "my_dict['key3']"
      ],
      "metadata": {
        "colab": {
          "base_uri": "https://localhost:8080/"
        },
        "id": "sB9X0r1e-iO1",
        "outputId": "7574f9fd-4dfc-4772-cf50-1a30826fe10e"
      },
      "execution_count": 36,
      "outputs": [
        {
          "output_type": "execute_result",
          "data": {
            "text/plain": [
              "['item0', 'item1', 'item2']"
            ]
          },
          "metadata": {},
          "execution_count": 36
        }
      ]
    },
    {
      "cell_type": "code",
      "source": [
        "# Can call an index on that value\n",
        "my_dict['key3'][0]"
      ],
      "metadata": {
        "colab": {
          "base_uri": "https://localhost:8080/",
          "height": 36
        },
        "id": "_8IKulqI-jby",
        "outputId": "aacd275b-975c-4d6a-afcd-8ccc84c26b86"
      },
      "execution_count": 37,
      "outputs": [
        {
          "output_type": "execute_result",
          "data": {
            "application/vnd.google.colaboratory.intrinsic+json": {
              "type": "string"
            },
            "text/plain": [
              "'item0'"
            ]
          },
          "metadata": {},
          "execution_count": 37
        }
      ]
    },
    {
      "cell_type": "code",
      "source": [
        "#Can then even call methods on that value\n",
        "my_dict['key3'][0].upper()"
      ],
      "metadata": {
        "colab": {
          "base_uri": "https://localhost:8080/",
          "height": 36
        },
        "id": "837Pviu_-k9c",
        "outputId": "03776aba-b498-444e-9caa-f368a1e97be7"
      },
      "execution_count": 38,
      "outputs": [
        {
          "output_type": "execute_result",
          "data": {
            "application/vnd.google.colaboratory.intrinsic+json": {
              "type": "string"
            },
            "text/plain": [
              "'ITEM0'"
            ]
          },
          "metadata": {},
          "execution_count": 38
        }
      ]
    },
    {
      "cell_type": "code",
      "source": [
        "my_dict['key1']\n",
        "my_dict"
      ],
      "metadata": {
        "colab": {
          "base_uri": "https://localhost:8080/"
        },
        "id": "eEAGe0AL_j95",
        "outputId": "f73588bf-0153-4e26-c775-cba708959c75"
      },
      "execution_count": 39,
      "outputs": [
        {
          "output_type": "execute_result",
          "data": {
            "text/plain": [
              "{'key1': 123, 'key2': [12, 23, 33], 'key3': ['item0', 'item1', 'item2']}"
            ]
          },
          "metadata": {},
          "execution_count": 39
        }
      ]
    },
    {
      "cell_type": "code",
      "source": [
        "# Subtract 123 from the value\n",
        "my_dict['key1'] = my_dict['key1'] - 123\n",
        "my_dict"
      ],
      "metadata": {
        "colab": {
          "base_uri": "https://localhost:8080/"
        },
        "id": "2jm9cZFH_mlH",
        "outputId": "f4813f52-8ba0-4159-ba9f-d37f8f670629"
      },
      "execution_count": 40,
      "outputs": [
        {
          "output_type": "execute_result",
          "data": {
            "text/plain": [
              "{'key1': 0, 'key2': [12, 23, 33], 'key3': ['item0', 'item1', 'item2']}"
            ]
          },
          "metadata": {},
          "execution_count": 40
        }
      ]
    },
    {
      "cell_type": "code",
      "source": [
        "# We can also create keys by assignment. For instance if we started off with an empty dictionary, we could continually add to it.\n",
        "# Create a new dictionary\n",
        "d = {}"
      ],
      "metadata": {
        "id": "zpDpcnh4AA3d"
      },
      "execution_count": 41,
      "outputs": []
    },
    {
      "cell_type": "code",
      "source": [
        "# Create a new key through assignment\n",
        "d['animal'] = 'Dog'"
      ],
      "metadata": {
        "id": "d7Vl4qkNADTm"
      },
      "execution_count": 42,
      "outputs": []
    },
    {
      "cell_type": "code",
      "source": [
        "# Can do this with any object\n",
        "d['answer'] = 42"
      ],
      "metadata": {
        "id": "rLlnplstAEQt"
      },
      "execution_count": 43,
      "outputs": []
    },
    {
      "cell_type": "markdown",
      "source": [
        "##Dictonary Methods"
      ],
      "metadata": {
        "id": "0mJcJuBhAsd7"
      }
    },
    {
      "cell_type": "code",
      "source": [
        "# Create a typical dictionary\n",
        "d = {'key1':1,'key2':2,'key3':3}"
      ],
      "metadata": {
        "id": "HM6o9okoAvnT"
      },
      "execution_count": null,
      "outputs": []
    },
    {
      "cell_type": "code",
      "source": [
        "# Method to return a list of all keys \n",
        "d.keys()"
      ],
      "metadata": {
        "id": "OndAVdhvAwJh"
      },
      "execution_count": null,
      "outputs": []
    },
    {
      "cell_type": "code",
      "source": [
        "# Method to grab all values\n",
        "d.values()"
      ],
      "metadata": {
        "id": "UOGL3ziPAyCe"
      },
      "execution_count": null,
      "outputs": []
    },
    {
      "cell_type": "code",
      "source": [
        "# Method to return tuples of all items  (we'll learn about tuples soon)\n",
        "d.items()"
      ],
      "metadata": {
        "id": "teZrRuCnAy-J"
      },
      "execution_count": null,
      "outputs": []
    },
    {
      "cell_type": "markdown",
      "source": [
        "## Tuples\n",
        "\n",
        "*In Python tuples are very similar to lists, however, unlike lists they are immutable meaning they can not be changed. You would use tuples to present things that shouldn't be changed, such as days of the week, or dates on a calendar.*"
      ],
      "metadata": {
        "id": "TspQH5enQvGZ"
      }
    },
    {
      "cell_type": "code",
      "source": [
        "# Can create a tuple with mixed types\n",
        "t = (1,2,3)"
      ],
      "metadata": {
        "id": "gg3AkmltQ0Pq"
      },
      "execution_count": null,
      "outputs": []
    },
    {
      "cell_type": "code",
      "source": [
        "# Check len just like a list\n",
        "len(t)"
      ],
      "metadata": {
        "id": "rN9x26Q6Q10z"
      },
      "execution_count": null,
      "outputs": []
    },
    {
      "cell_type": "code",
      "source": [
        "# Can also mix object types\n",
        "t = ('one',2, 2)\n",
        "\n",
        "# Show\n",
        "t"
      ],
      "metadata": {
        "id": "U0cSFHl3Q1yN"
      },
      "execution_count": null,
      "outputs": []
    },
    {
      "cell_type": "code",
      "source": [
        "# Use indexing just like we did in lists\n",
        "t[0]"
      ],
      "metadata": {
        "id": "SvFdMx9vQ1vG"
      },
      "execution_count": null,
      "outputs": []
    },
    {
      "cell_type": "code",
      "source": [
        "# Slicing just like a list\n",
        "t[-1]"
      ],
      "metadata": {
        "id": "hUtLo7Q4Q1sZ"
      },
      "execution_count": null,
      "outputs": []
    },
    {
      "cell_type": "code",
      "source": [
        "## Tuple Methods\n",
        "t.index('one')"
      ],
      "metadata": {
        "id": "2kVy3Qu3Q1pX"
      },
      "execution_count": null,
      "outputs": []
    },
    {
      "cell_type": "code",
      "source": [
        "# Use .count to count the number of times a value appears\n",
        "t.count('one')"
      ],
      "metadata": {
        "id": "wVl9TfeBQ1fY"
      },
      "execution_count": null,
      "outputs": []
    },
    {
      "cell_type": "code",
      "source": [
        "# Use .count to count the number of times a value appears\n",
        "t.count('one')"
      ],
      "metadata": {
        "id": "VHOBnY1zQ-B4"
      },
      "execution_count": null,
      "outputs": []
    }
  ]
}