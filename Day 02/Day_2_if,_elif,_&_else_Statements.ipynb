{
  "nbformat": 4,
  "nbformat_minor": 0,
  "metadata": {
    "colab": {
      "name": "Day 2 if, elif, & else Statements.ipynb",
      "provenance": [],
      "collapsed_sections": [],
      "authorship_tag": "ABX9TyMNfDvSEoAy52CjgfX72EtU",
      "include_colab_link": true
    },
    "kernelspec": {
      "name": "python3",
      "display_name": "Python 3"
    },
    "language_info": {
      "name": "python"
    }
  },
  "cells": [
    {
      "cell_type": "markdown",
      "metadata": {
        "id": "view-in-github",
        "colab_type": "text"
      },
      "source": [
        "<a href=\"https://colab.research.google.com/github/vincepogz/CUNY2X-TTP-Notes/blob/main/Day_2_if%2C_elif%2C_%26_else_Statements.ipynb\" target=\"_parent\"><img src=\"https://colab.research.google.com/assets/colab-badge.svg\" alt=\"Open In Colab\"/></a>"
      ]
    },
    {
      "cell_type": "code",
      "execution_count": 1,
      "metadata": {
        "colab": {
          "base_uri": "https://localhost:8080/"
        },
        "id": "_SOsM7XfdOOW",
        "outputId": "7bb55edb-dacb-4a54-8fc1-5d38a4c79464"
      },
      "outputs": [
        {
          "output_type": "stream",
          "name": "stdout",
          "text": [
            "It was TRUE\n"
          ]
        }
      ],
      "source": [
        "if True:\n",
        "  print('It was TRUE')\n"
      ]
    },
    {
      "cell_type": "code",
      "source": [
        "x = False\n",
        "\n",
        "if x:\n",
        "  print('x was TRUE')\n",
        "\n",
        "else:\n",
        "  print('I will be printed out if the condition is false')"
      ],
      "metadata": {
        "colab": {
          "base_uri": "https://localhost:8080/"
        },
        "id": "xwuKB7Wng7oq",
        "outputId": "2bd182df-e940-40df-83dc-3d1923660d2d"
      },
      "execution_count": 2,
      "outputs": [
        {
          "output_type": "stream",
          "name": "stdout",
          "text": [
            "I will be printed out if the condition is false\n"
          ]
        }
      ]
    },
    {
      "cell_type": "code",
      "source": [
        "loc = 'Bank'\n",
        "\n",
        "if loc == 'Auto Shop':\n",
        "  print('Welcome to the Auto Shop')\n",
        "\n",
        "elif loc == 'Bank':\n",
        "  print('Welcome to the bank!')\n",
        "\n",
        "else:\n",
        "  print('Where are you?')"
      ],
      "metadata": {
        "colab": {
          "base_uri": "https://localhost:8080/"
        },
        "id": "42b3Vhlihoaa",
        "outputId": "81da4219-18ab-433b-b626-a72fa45f469d"
      },
      "execution_count": 3,
      "outputs": [
        {
          "output_type": "stream",
          "name": "stdout",
          "text": [
            "Welcome to the bank!\n"
          ]
        }
      ]
    }
  ]
}