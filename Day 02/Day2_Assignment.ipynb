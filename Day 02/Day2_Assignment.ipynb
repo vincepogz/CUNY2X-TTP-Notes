{
  "nbformat": 4,
  "nbformat_minor": 0,
  "metadata": {
    "colab": {
      "name": "Day2 Assignment.ipynb",
      "provenance": [],
      "collapsed_sections": [],
      "authorship_tag": "ABX9TyM6Gcf2Gpz001/VVkwuJfmN",
      "include_colab_link": true
    },
    "kernelspec": {
      "name": "python3",
      "display_name": "Python 3"
    },
    "language_info": {
      "name": "python"
    }
  },
  "cells": [
    {
      "cell_type": "markdown",
      "metadata": {
        "id": "view-in-github",
        "colab_type": "text"
      },
      "source": [
        "<a href=\"https://colab.research.google.com/github/vincepogz/CUNY2X-TTP-Notes/blob/main/Day2_Assignment.ipynb\" target=\"_parent\"><img src=\"https://colab.research.google.com/assets/colab-badge.svg\" alt=\"Open In Colab\"/></a>"
      ]
    },
    {
      "cell_type": "markdown",
      "source": [
        "**#Simple Calculator**\n",
        "###By: Vince Pamolarco"
      ],
      "metadata": {
        "id": "9HKm76HyrFPZ"
      }
    },
    {
      "cell_type": "code",
      "source": [
        "#Ask user start the program\n",
        "progStatus = input('Do you want to run the program? (Y/N): ')\n",
        "\n",
        "#Turn on the program\n",
        "#While user want to continue the program\n",
        "while progStatus == 'Y':                #While-Loop based on user input\n",
        "  n1 = input('Enter first number: ')    #Set first number\n",
        "  n2 = input('Enter second number: ')   #Set second number\n",
        "  num1 = int(n1)                        #Convert to integer\n",
        "  num2 = int(n2)                        #Convert to integer\n",
        "  progModifier = True                   #Program modifer if the user want to continue using these settings/numbers\n",
        "\n",
        "  while progModifier == True:           #While-Loop based on user choice\n",
        "    print('Select menu: \\n1. Addition \\n2. Substraction \\n3. Multiplication \\n4. Division \\n5. Change numbers \\n6. Exit Program')\n",
        "    selection = input()                 #User picks from 1-6\n",
        "\n",
        "    if selection == '1':                #If user selected 1, perform addition\n",
        "      sum = (num1 + num2)\n",
        "      print(f'\\n\\nThe sum of these two numbers is:', sum,'\\n\\n')\n",
        "    \n",
        "    elif selection == '2':              #If user selected 2, perform substraction\n",
        "      difference = (num1 - num2)\n",
        "      print(f'\\n\\nThe difference of these two numbers is:', difference,'\\n\\n')\n",
        "\n",
        "    elif selection == '3':              #If user selected 3, perform multiplication\n",
        "      product = (num1 * num2)\n",
        "      print(f'\\n\\nThe product of these two numbers is:', product,'\\n\\n')\n",
        "\n",
        "    elif selection == '4':              #If user selected 4, perform division\n",
        "      div = (num1 / num2)\n",
        "      print(f'\\n\\nThe division of these two numbers is:', div,'\\n\\n')\n",
        "\n",
        "    elif selection == '5':              #If user selected 5, restart the program\n",
        "      print(f'\\n\\nRestarting the program \\n\\n')\n",
        "      break\n",
        "    \n",
        "    elif selection == '6':              #If user selected 6, End the Program\n",
        "      progModifier = False\n",
        "      progStatus = 'N'\n",
        "      break\n",
        "\n",
        "    else:                               #If user selected otherwise, ask for the correct input\n",
        "      print(f'**********Wrong Entry****************')\n",
        "      continue\n",
        "\n",
        "  else:\n",
        "    break\n",
        "#Else if the user does not want to continue the program\n",
        "else:\n",
        "  pass\n",
        "\n",
        "print(\"\\n\\nProgram has successfully turned off\\n\\n\")\n"
      ],
      "metadata": {
        "id": "MPkFCudmsnDu",
        "colab": {
          "base_uri": "https://localhost:8080/"
        },
        "outputId": "daf65709-b94a-4a86-9342-a989354cb629"
      },
      "execution_count": null,
      "outputs": [
        {
          "output_type": "stream",
          "name": "stdout",
          "text": [
            "Do you want to run the program? (Y/N): Y\n",
            "Enter first number: 20\n",
            "Enter second number: 4\n",
            "Select menu: \n",
            "1. Addition \n",
            "2. Substraction \n",
            "3. Multiplication \n",
            "4. Division \n",
            "5. Change numbers \n",
            "6. Exit Program\n",
            "6\n",
            "\n",
            "\n",
            "Program has successfully turned off\n",
            "\n",
            "\n"
          ]
        }
      ]
    }
  ]
}