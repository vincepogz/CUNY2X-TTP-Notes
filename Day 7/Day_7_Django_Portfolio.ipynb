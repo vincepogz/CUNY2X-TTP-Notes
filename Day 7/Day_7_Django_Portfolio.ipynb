{
  "nbformat": 4,
  "nbformat_minor": 0,
  "metadata": {
    "colab": {
      "name": "Day 7 Django Portfolio.ipynb",
      "provenance": [],
      "collapsed_sections": [
        "v07WawTm8zgl",
        "uGr0iGlJ8-Sp",
        "jN2_hojTIbSP"
      ],
      "authorship_tag": "ABX9TyMWGfYqUQapR1/ljcc8OMkQ",
      "include_colab_link": true
    },
    "kernelspec": {
      "name": "python3",
      "display_name": "Python 3"
    },
    "language_info": {
      "name": "python"
    }
  },
  "cells": [
    {
      "cell_type": "markdown",
      "metadata": {
        "id": "view-in-github",
        "colab_type": "text"
      },
      "source": [
        "<a href=\"https://colab.research.google.com/github/vincepogz/CUNY2X-TTP-Notes/blob/main/Day_7_Django_Portfolio.ipynb\" target=\"_parent\"><img src=\"https://colab.research.google.com/assets/colab-badge.svg\" alt=\"Open In Colab\"/></a>"
      ]
    },
    {
      "cell_type": "markdown",
      "source": [
        "#Portfolio App"
      ],
      "metadata": {
        "id": "v07WawTm8zgl"
      }
    },
    {
      "cell_type": "markdown",
      "source": [
        "##Models.py"
      ],
      "metadata": {
        "id": "uGr0iGlJ8-Sp"
      }
    },
    {
      "cell_type": "code",
      "source": [
        "# Create your models here.\n",
        "class Project(models.Model):\n",
        "    title = models.CharField(max_length=100)\n",
        "    description = models.CharField(max_length=200)\n",
        "    image = models.ImageField(upload_to='portfolio/images/')\n",
        "    url = models.URLField(blank=True)\n",
        "    \n",
        "    def __str__(self):\n",
        "        return self.title"
      ],
      "metadata": {
        "id": "yjnk3HTt87UT"
      },
      "execution_count": null,
      "outputs": []
    },
    {
      "cell_type": "markdown",
      "source": [
        "##Admin.py"
      ],
      "metadata": {
        "id": "jN2_hojTIbSP"
      }
    },
    {
      "cell_type": "code",
      "source": [
        "from django.contrib import admin\n",
        "from .models import Project\n",
        "\n",
        "# Register your models here.\n",
        "\n",
        "admin.site.register(Project)\n"
      ],
      "metadata": {
        "id": "a-tDIan8IdBR"
      },
      "execution_count": null,
      "outputs": []
    },
    {
      "cell_type": "markdown",
      "source": [
        "#Portfolio_Site"
      ],
      "metadata": {
        "id": "RVOYgpbf86yk"
      }
    },
    {
      "cell_type": "markdown",
      "source": [
        "##Settings.py\n"
      ],
      "metadata": {
        "id": "uC-sj_cL-lOJ"
      }
    },
    {
      "cell_type": "code",
      "source": [
        "INSTALLED_APPS = [\n",
        "    'django.contrib.admin',\n",
        "    'django.contrib.auth',\n",
        "    'django.contrib.contenttypes',\n",
        "    'django.contrib.sessions',\n",
        "    'django.contrib.messages',\n",
        "    'django.contrib.staticfiles',\n",
        "    'quote_generator', #This is from previous project\n",
        "    'portfolio', #Added\n",
        "    'blog', #Added\n",
        "]\n"
      ],
      "metadata": {
        "id": "McV69TpyIstM"
      },
      "execution_count": null,
      "outputs": []
    },
    {
      "cell_type": "code",
      "source": [
        "#Paste this in the bottom of the code\n",
        "\n",
        "MEDIA_URL = '/media/'\n",
        "MEDIA_ROOT = os.path.join(BASE_DIR, 'media')"
      ],
      "metadata": {
        "id": "rbU78yoa-m6q"
      },
      "execution_count": null,
      "outputs": []
    },
    {
      "cell_type": "markdown",
      "source": [
        "## Urls.py"
      ],
      "metadata": {
        "id": "9ZR_B9GOJB9O"
      }
    },
    {
      "cell_type": "code",
      "source": [
        "from django.contrib import admin\n",
        "from django.urls import path, include\n",
        "from quote_generator import views\n",
        "\n",
        "from django.conf.urls.static import static #Added\n",
        "from django.conf import settings #Added\n",
        "\n",
        "urlpatterns = [\n",
        "    path('', views.index, name='index'),\n",
        "    #path('about/', views.about, name='about'), #<-------- Comment until ready for use\n",
        "    path('admin/', admin.site.urls),\n",
        "    #path('blog/', include('blog.urls')) #<-------- Comment until ready for use\n",
        "]\n",
        "\n",
        "urlpatterns += static(settings.MEDIA_URL, document_root=settings.MEDIA_ROOT) ## Added"
      ],
      "metadata": {
        "id": "EDUMmTlBJERi"
      },
      "execution_count": null,
      "outputs": []
    },
    {
      "cell_type": "markdown",
      "source": [
        "#Blog App"
      ],
      "metadata": {
        "id": "Ob9t-HUqITdy"
      }
    },
    {
      "cell_type": "markdown",
      "source": [
        "##Models.py"
      ],
      "metadata": {
        "id": "glPC176KJ9QC"
      }
    },
    {
      "cell_type": "code",
      "source": [
        "from django.db import models\n",
        "\n",
        "# Create your models here.\n",
        "\n",
        "class Blog(models.Model):\n",
        "    title = models.CharField(max_length=150)\n",
        "    description = models.TextField()\n",
        "    date = models.DateField()\n",
        "    \n",
        "    def __str__(self):\n",
        "        return self.title"
      ],
      "metadata": {
        "id": "3wA5SUy_J_XV"
      },
      "execution_count": null,
      "outputs": []
    },
    {
      "cell_type": "markdown",
      "source": [
        "##Admin.py"
      ],
      "metadata": {
        "id": "lJO4rKBWhmJ1"
      }
    },
    {
      "cell_type": "code",
      "source": [
        "from django.contrib import admin\n",
        "from .models import Blog\n",
        "\n",
        "# Register your models here.\n",
        "\n",
        "admin.site.register(Blog)\n",
        "\n"
      ],
      "metadata": {
        "id": "kmWM6WRXhoxE"
      },
      "execution_count": null,
      "outputs": []
    }
  ]
}