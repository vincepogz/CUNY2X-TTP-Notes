{
  "nbformat": 4,
  "nbformat_minor": 0,
  "metadata": {
    "colab": {
      "name": "Day 11 Puzzle #5.ipynb",
      "provenance": [],
      "collapsed_sections": [],
      "authorship_tag": "ABX9TyN5pydU7yQl6P1W8yEnenr9",
      "include_colab_link": true
    },
    "kernelspec": {
      "name": "python3",
      "display_name": "Python 3"
    },
    "language_info": {
      "name": "python"
    }
  },
  "cells": [
    {
      "cell_type": "markdown",
      "metadata": {
        "id": "view-in-github",
        "colab_type": "text"
      },
      "source": [
        "<a href=\"https://colab.research.google.com/github/vincepogz/CUNY2X-TTP-Notes/blob/main/Day_11_Puzzle_5.ipynb\" target=\"_parent\"><img src=\"https://colab.research.google.com/assets/colab-badge.svg\" alt=\"Open In Colab\"/></a>"
      ]
    },
    {
      "cell_type": "markdown",
      "source": [
        "# The Harmless Ransom Note\n",
        "\n",
        "Given two stings ransomNote and magazine, return true if ransomNote can be constructed from magazine and false otherwise.\n",
        "Each letter in magazine can only be used once in ransomNote."
      ],
      "metadata": {
        "id": "B7ZkRJvBkh7x"
      }
    },
    {
      "cell_type": "markdown",
      "source": [
        "## PSEUDOCODE:\n",
        "\n",
        "* Get ransomNote strings and magazine strings\n",
        "* Turn the string into a list, and starting from the first index in ransomNote start looking magazine\n",
        "* If a character is found, remove it from the list in magazine and go to the next character in ransomNote. \n",
        "* If a character is NOT found, exit the program and print \"False\"\n"
      ],
      "metadata": {
        "id": "Od9V2PyNkv_g"
      }
    },
    {
      "cell_type": "code",
      "source": [
        "# The Harmless Ransom Note\n",
        "# Vince Pamolarco\n",
        "\n",
        "# * Get ransomNote strings and magazine strings\n",
        "ransomNote = 'Cello'\n",
        "magazine = 'Hello World'\n",
        "\n",
        "# * Turn the string into a list, \n",
        "magazineList = list(magazine)\n",
        "\n",
        "# starting from the first index in ransomNote start looking magazine\n",
        "for i in ransomNote:\n",
        "\n",
        "  # * If a character is found, remove it from the list in magazine and go to the next character in ransomNote. \n",
        "  if i in magazineList:\n",
        "    continue\n",
        "\n",
        "  #If a character is NOT found, exit the program and print \"False\"\n",
        "  else:\n",
        "    print(\"False\")\n",
        "    break\n",
        "\n"
      ],
      "metadata": {
        "colab": {
          "base_uri": "https://localhost:8080/"
        },
        "id": "cnryNgONl7Dc",
        "outputId": "9ddae6c2-ebee-405a-9a65-6b16010b4c36"
      },
      "execution_count": 24,
      "outputs": [
        {
          "output_type": "stream",
          "name": "stdout",
          "text": [
            "False\n",
            "Good\n"
          ]
        }
      ]
    }
  ]
}