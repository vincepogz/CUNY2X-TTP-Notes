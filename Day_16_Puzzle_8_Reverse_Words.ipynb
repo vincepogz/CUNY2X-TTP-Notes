{
  "nbformat": 4,
  "nbformat_minor": 0,
  "metadata": {
    "colab": {
      "name": "Day 16 Puzzle#8: Reverse Words.ipynb",
      "provenance": [],
      "collapsed_sections": [],
      "authorship_tag": "ABX9TyPE+RFW7Fjd9q7HnugmAc35",
      "include_colab_link": true
    },
    "kernelspec": {
      "name": "python3",
      "display_name": "Python 3"
    },
    "language_info": {
      "name": "python"
    }
  },
  "cells": [
    {
      "cell_type": "markdown",
      "metadata": {
        "id": "view-in-github",
        "colab_type": "text"
      },
      "source": [
        "<a href=\"https://colab.research.google.com/github/vincepogz/CUNY2X-TTP-Notes/blob/main/Day_16_Puzzle_8_Reverse_Words.ipynb\" target=\"_parent\"><img src=\"https://colab.research.google.com/assets/colab-badge.svg\" alt=\"Open In Colab\"/></a>"
      ]
    },
    {
      "cell_type": "markdown",
      "source": [
        "#Reverse Words\n",
        "\n",
        "## Vince Pamolarco"
      ],
      "metadata": {
        "id": "zbCOnN_jhV7D"
      }
    },
    {
      "cell_type": "markdown",
      "source": [
        "##Write a function in Javascript that will reverse every word in a given string and return the new string. Every word should be reversed but the string as a whole should not be reversed. And DO NOT use array.reverse() method\n",
        "\n",
        "\n",
        "##Note: Push your puzzle answer into your GitHub repo and submit the link. Make sure you comment on your code."
      ],
      "metadata": {
        "id": "n4MStYcBhjDe"
      }
    },
    {
      "cell_type": "markdown",
      "source": [
        "## PSEUDO CODE\n",
        "\n",
        "* //Initialize function with string parameter\n",
        "\n",
        "\n",
        "* //Initialize the reverseWord\n",
        "\n",
        "  \n",
        "* //From the end of the string, iterate until we reach the first letter.\n",
        "\n",
        "\n",
        "* //From index, get the character and add it to the reversedMsg.\n",
        "\n",
        "  \n",
        "* //Return the reversed string\n",
        "\n",
        "\n",
        "\n",
        "  \n"
      ],
      "metadata": {
        "id": "L9OTPrwxqfeN"
      }
    },
    {
      "cell_type": "code",
      "source": [
        "//Initialize function with string parameter\n",
        "function reverse(string) {\n",
        "\n",
        "//Initialize the reverseWord\n",
        "var reversedMsg = \"\";\n",
        "  \n",
        "//From the end of the string, iterate until we reach the first letter.\n",
        "for (let index = string.length-1; index >= 0; index--) {\n",
        "\n",
        "  //From index, get the character and add it to the reversedMsg.\n",
        "  reversedMsg += string[index];\n",
        "}\n",
        "  \n",
        "//Return the reversed string\n",
        "  \n",
        "return reversedMsg;\n",
        "\n",
        "}\n"
      ],
      "metadata": {
        "id": "Q8UL6kpiqo6J"
      },
      "execution_count": null,
      "outputs": []
    },
    {
      "cell_type": "markdown",
      "source": [
        "Console: \n",
        "\n",
        "//Print a Reverse Message\n",
        "* console.log(reverse(\"Hello World\"))\n",
        "\n",
        "dlroW olleH\n",
        "\n"
      ],
      "metadata": {
        "id": "HwQc-AhvqtRt"
      }
    }
  ]
}