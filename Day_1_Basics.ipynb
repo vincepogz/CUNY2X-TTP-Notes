{
  "nbformat": 4,
  "nbformat_minor": 0,
  "metadata": {
    "colab": {
      "name": "Day 1 Basics.ipynb",
      "provenance": [],
      "collapsed_sections": [],
      "authorship_tag": "ABX9TyMQvjGvIKbJh7t08uWNwW6u",
      "include_colab_link": true
    },
    "kernelspec": {
      "name": "python3",
      "display_name": "Python 3"
    },
    "language_info": {
      "name": "python"
    }
  },
  "cells": [
    {
      "cell_type": "markdown",
      "metadata": {
        "id": "view-in-github",
        "colab_type": "text"
      },
      "source": [
        "<a href=\"https://colab.research.google.com/github/vincepogz/CUNY2X-TTP-Notes/blob/main/Day_1_Basics.ipynb\" target=\"_parent\"><img src=\"https://colab.research.google.com/assets/colab-badge.svg\" alt=\"Open In Colab\"/></a>"
      ]
    },
    {
      "cell_type": "markdown",
      "source": [
        "#Hello Python"
      ],
      "metadata": {
        "id": "uLdBKh700Lif"
      }
    },
    {
      "cell_type": "code",
      "execution_count": 1,
      "metadata": {
        "colab": {
          "base_uri": "https://localhost:8080/"
        },
        "id": "wbICJ9SPhMJQ",
        "outputId": "369d6063-6456-4b95-a48e-c88d092b1981"
      },
      "outputs": [
        {
          "output_type": "stream",
          "name": "stdout",
          "text": [
            "Hello There\n"
          ]
        }
      ],
      "source": [
        "print('Hello There')"
      ]
    },
    {
      "cell_type": "code",
      "source": [
        "import this"
      ],
      "metadata": {
        "colab": {
          "base_uri": "https://localhost:8080/"
        },
        "id": "R2GESxZ8imWh",
        "outputId": "9524f627-6aba-4b06-a03b-aeead3fd66cb"
      },
      "execution_count": 2,
      "outputs": [
        {
          "output_type": "stream",
          "name": "stdout",
          "text": [
            "The Zen of Python, by Tim Peters\n",
            "\n",
            "Beautiful is better than ugly.\n",
            "Explicit is better than implicit.\n",
            "Simple is better than complex.\n",
            "Complex is better than complicated.\n",
            "Flat is better than nested.\n",
            "Sparse is better than dense.\n",
            "Readability counts.\n",
            "Special cases aren't special enough to break the rules.\n",
            "Although practicality beats purity.\n",
            "Errors should never pass silently.\n",
            "Unless explicitly silenced.\n",
            "In the face of ambiguity, refuse the temptation to guess.\n",
            "There should be one-- and preferably only one --obvious way to do it.\n",
            "Although that way may not be obvious at first unless you're Dutch.\n",
            "Now is better than never.\n",
            "Although never is often better than *right* now.\n",
            "If the implementation is hard to explain, it's a bad idea.\n",
            "If the implementation is easy to explain, it may be a good idea.\n",
            "Namespaces are one honking great idea -- let's do more of those!\n"
          ]
        }
      ]
    },
    {
      "cell_type": "markdown",
      "source": [
        "#String Basics"
      ],
      "metadata": {
        "id": "-UzUSKOVi72g"
      }
    },
    {
      "cell_type": "code",
      "source": [
        "\"This is a string\""
      ],
      "metadata": {
        "colab": {
          "base_uri": "https://localhost:8080/",
          "height": 36
        },
        "id": "jcoO3MlX0hWJ",
        "outputId": "23e7dc5a-32cd-430b-828d-dbf17e3e92de"
      },
      "execution_count": 3,
      "outputs": [
        {
          "output_type": "execute_result",
          "data": {
            "application/vnd.google.colaboratory.intrinsic+json": {
              "type": "string"
            },
            "text/plain": [
              "'This is a string'"
            ]
          },
          "metadata": {},
          "execution_count": 3
        }
      ]
    },
    {
      "cell_type": "code",
      "source": [
        "'This is another kind of string'"
      ],
      "metadata": {
        "colab": {
          "base_uri": "https://localhost:8080/",
          "height": 36
        },
        "id": "dREwmeHD0vbr",
        "outputId": "7cff2249-ec6f-4408-9746-e404638b4d47"
      },
      "execution_count": 4,
      "outputs": [
        {
          "output_type": "execute_result",
          "data": {
            "application/vnd.google.colaboratory.intrinsic+json": {
              "type": "string"
            },
            "text/plain": [
              "'This is another kind of string'"
            ]
          },
          "metadata": {},
          "execution_count": 4
        }
      ]
    },
    {
      "cell_type": "code",
      "source": [
        "\"Hello World\""
      ],
      "metadata": {
        "colab": {
          "base_uri": "https://localhost:8080/",
          "height": 36
        },
        "id": "q4OAO4_O01MZ",
        "outputId": "619891a3-10fd-4e7d-f32a-f7f7716019ba"
      },
      "execution_count": 5,
      "outputs": [
        {
          "output_type": "execute_result",
          "data": {
            "application/vnd.google.colaboratory.intrinsic+json": {
              "type": "string"
            },
            "text/plain": [
              "'Hello World'"
            ]
          },
          "metadata": {},
          "execution_count": 5
        }
      ]
    },
    {
      "cell_type": "code",
      "source": [
        "'John Jay College of Criminal Justice'"
      ],
      "metadata": {
        "colab": {
          "base_uri": "https://localhost:8080/",
          "height": 36
        },
        "id": "rbrEWIkj1N7A",
        "outputId": "155aab08-3504-40de-9099-b5395fdc8793"
      },
      "execution_count": 6,
      "outputs": [
        {
          "output_type": "execute_result",
          "data": {
            "application/vnd.google.colaboratory.intrinsic+json": {
              "type": "string"
            },
            "text/plain": [
              "'John Jay College of Criminal Justice'"
            ]
          },
          "metadata": {},
          "execution_count": 6
        }
      ]
    },
    {
      "cell_type": "code",
      "source": [
        "'NYC TTP Winter Bootcamp'"
      ],
      "metadata": {
        "colab": {
          "base_uri": "https://localhost:8080/",
          "height": 36
        },
        "id": "BndmiQw01T-w",
        "outputId": "8c725084-0f0f-4ef1-ea85-ed634936bd3e"
      },
      "execution_count": 7,
      "outputs": [
        {
          "output_type": "execute_result",
          "data": {
            "application/vnd.google.colaboratory.intrinsic+json": {
              "type": "string"
            },
            "text/plain": [
              "'NYC TTP Winter Bootcamp'"
            ]
          },
          "metadata": {},
          "execution_count": 7
        }
      ]
    },
    {
      "cell_type": "code",
      "source": [
        "len(\"Hello World\")\n",
        "a='NYC TTP Winter Bootcamp'\n",
        "b='This is another kind of string'\n",
        "len(a)\n",
        "len(b)\n",
        "'Hi'"
      ],
      "metadata": {
        "colab": {
          "base_uri": "https://localhost:8080/",
          "height": 36
        },
        "id": "KGrE5LPc2fnv",
        "outputId": "f6ec8cdd-5308-4142-ccec-0eb3418b2721"
      },
      "execution_count": 8,
      "outputs": [
        {
          "output_type": "execute_result",
          "data": {
            "application/vnd.google.colaboratory.intrinsic+json": {
              "type": "string"
            },
            "text/plain": [
              "'Hi'"
            ]
          },
          "metadata": {},
          "execution_count": 8
        }
      ]
    },
    {
      "cell_type": "markdown",
      "source": [
        "\n",
        "#String Indexing\n",
        "\n",
        "Python can use indexes to call parts of the sequence. Let's learn how this works.\n",
        "\n",
        "In Python, we use brackets [] after an object to call its index. We should also note that indexing starts at 0 for Python. Let's create a new object called 'a' and the walk through a few examples of indexing."
      ],
      "metadata": {
        "id": "KmfvlbZv7SZz"
      }
    },
    {
      "cell_type": "code",
      "source": [
        "##Print the object\n",
        "print(a)"
      ],
      "metadata": {
        "colab": {
          "base_uri": "https://localhost:8080/"
        },
        "id": "KVVxEkyP7lGb",
        "outputId": "36fc34ae-6b1d-4fb0-e75b-e3be628944c5"
      },
      "execution_count": 15,
      "outputs": [
        {
          "output_type": "stream",
          "name": "stdout",
          "text": [
            "NYC TTP Winter Bootcamp\n"
          ]
        }
      ]
    },
    {
      "cell_type": "code",
      "source": [
        "#Show the [#] element in string\n",
        "a[0]"
      ],
      "metadata": {
        "colab": {
          "base_uri": "https://localhost:8080/",
          "height": 36
        },
        "id": "JVb_kdOO7q7T",
        "outputId": "36f51370-2a71-4b9a-d8aa-c7b84b882e69"
      },
      "execution_count": 16,
      "outputs": [
        {
          "output_type": "execute_result",
          "data": {
            "application/vnd.google.colaboratory.intrinsic+json": {
              "type": "string"
            },
            "text/plain": [
              "'N'"
            ]
          },
          "metadata": {},
          "execution_count": 16
        }
      ]
    },
    {
      "cell_type": "code",
      "source": [
        "#Show the [#] element in string\n",
        "a[1]"
      ],
      "metadata": {
        "colab": {
          "base_uri": "https://localhost:8080/",
          "height": 36
        },
        "id": "a-kRC-sm79Sg",
        "outputId": "2b7e3c79-5650-4931-c02e-c30533b06757"
      },
      "execution_count": 17,
      "outputs": [
        {
          "output_type": "execute_result",
          "data": {
            "application/vnd.google.colaboratory.intrinsic+json": {
              "type": "string"
            },
            "text/plain": [
              "'Y'"
            ]
          },
          "metadata": {},
          "execution_count": 17
        }
      ]
    },
    {
      "cell_type": "code",
      "source": [
        "#Show the [#] element in string\n",
        "a[2]"
      ],
      "metadata": {
        "colab": {
          "base_uri": "https://localhost:8080/",
          "height": 36
        },
        "id": "NqSxJQvV8AsP",
        "outputId": "0dabf314-13ae-4f35-e55d-07ee99416a44"
      },
      "execution_count": 18,
      "outputs": [
        {
          "output_type": "execute_result",
          "data": {
            "application/vnd.google.colaboratory.intrinsic+json": {
              "type": "string"
            },
            "text/plain": [
              "'C'"
            ]
          },
          "metadata": {},
          "execution_count": 18
        }
      ]
    },
    {
      "cell_type": "code",
      "source": [
        "#Show the [#] element in string\n",
        "a[3]"
      ],
      "metadata": {
        "colab": {
          "base_uri": "https://localhost:8080/",
          "height": 36
        },
        "id": "3DkW8cBk8gMK",
        "outputId": "8d9c9a48-1256-4f7b-cfe2-0c69f6e36e94"
      },
      "execution_count": 19,
      "outputs": [
        {
          "output_type": "execute_result",
          "data": {
            "application/vnd.google.colaboratory.intrinsic+json": {
              "type": "string"
            },
            "text/plain": [
              "' '"
            ]
          },
          "metadata": {},
          "execution_count": 19
        }
      ]
    },
    {
      "cell_type": "markdown",
      "source": [
        "##Concatenation of the Strings"
      ],
      "metadata": {
        "id": "5e-GZ_iMcgf4"
      }
    },
    {
      "cell_type": "code",
      "source": [
        "greetings = 'Hello'\n",
        "name = \"Mark\"\n",
        "print(greetings + name)\n",
        "print(greetings + \" \" + name)"
      ],
      "metadata": {
        "colab": {
          "base_uri": "https://localhost:8080/"
        },
        "id": "cJ2lgjcocpFr",
        "outputId": "a7795e48-aa86-454d-a03b-36cd277d147b"
      },
      "execution_count": 20,
      "outputs": [
        {
          "output_type": "stream",
          "name": "stdout",
          "text": [
            "HelloMark\n",
            "Hello Mark\n"
          ]
        }
      ]
    },
    {
      "cell_type": "markdown",
      "source": [
        "#Input Function"
      ],
      "metadata": {
        "id": "44iY7E4udYDn"
      }
    },
    {
      "cell_type": "code",
      "source": [
        "greetings = \"Hello\" #Set greeting variable\n",
        "name = input(\"What is your name?:  \") #Set name variable by input\n",
        "print(greetings + \" \" + name) #Print"
      ],
      "metadata": {
        "colab": {
          "base_uri": "https://localhost:8080/"
        },
        "id": "-jrbkIq7d6Ae",
        "outputId": "0b073cc5-2955-4c64-f0b3-955df988ceaf"
      },
      "execution_count": 22,
      "outputs": [
        {
          "output_type": "stream",
          "name": "stdout",
          "text": [
            "What is your name?:  Vince\n",
            "Hello Vince\n"
          ]
        }
      ]
    },
    {
      "cell_type": "code",
      "source": [
        "'''\n",
        "\n",
        "Task: \n",
        "  1. Ask the user for name, age, and city\n",
        "  2. Print Out a greeting for it.\n",
        "\n",
        "'''\n",
        "\n",
        "#Set variables\n",
        "Message = \"Person identified: \"\n",
        "name = input(\"Enter your name: \") #Set Name\n",
        "age = input(\"Enter your age: \") #Set Age\n",
        "city = input(\"Enter your city: \") #Set City\n",
        "\n",
        "#Print Message\n",
        "print(Message + name + \" \" + str(age) + \" \" + \"from\" + \" \" + city)\n",
        "\n",
        "#Another way of formatting without Concatenation of the Strings\n",
        "\n",
        "print(f\"{Message} {name} {age} from {city}\")"
      ],
      "metadata": {
        "colab": {
          "base_uri": "https://localhost:8080/"
        },
        "id": "BohW1YSoe4JJ",
        "outputId": "4fe48cb9-9a47-4ba0-a746-644b74a6b6eb"
      },
      "execution_count": 23,
      "outputs": [
        {
          "output_type": "stream",
          "name": "stdout",
          "text": [
            "Enter your name: Vince\n",
            "Enter your age: 27\n",
            "Enter your city: New York\n",
            "Person identified: Vince 27 from New York\n",
            "Person identified:  Vince 27 from New York\n"
          ]
        }
      ]
    },
    {
      "cell_type": "code",
      "source": [
        "#Using .format version 1\n",
        "print(\"Hi there, {}, you look great for a person of {}, and you are from {} which is excellent\".format(name,age,city))"
      ],
      "metadata": {
        "colab": {
          "base_uri": "https://localhost:8080/"
        },
        "id": "iQtlkxBFgCqj",
        "outputId": "490895c1-8e8a-41c1-9d2e-512a0d22cfb5"
      },
      "execution_count": 24,
      "outputs": [
        {
          "output_type": "stream",
          "name": "stdout",
          "text": [
            "Hi there, Vince, you look great for a person of 27, and you are from New York which is excellent\n"
          ]
        }
      ]
    },
    {
      "cell_type": "code",
      "source": [
        "#Using .format version 2\n",
        "print(\"The color are {} {} {}\".format(\"Red\", \"Green\", \"Blue\"))"
      ],
      "metadata": {
        "colab": {
          "base_uri": "https://localhost:8080/"
        },
        "id": "qAhALxuXh5cP",
        "outputId": "43c8503f-ec72-4791-fbaf-0d12525dc3d8"
      },
      "execution_count": 25,
      "outputs": [
        {
          "output_type": "stream",
          "name": "stdout",
          "text": [
            "The color are Red Green Blue\n"
          ]
        }
      ]
    },
    {
      "cell_type": "code",
      "source": [
        "#Using .format index\n",
        "print(\"The color are {0} {0} {0}\".format(\"Red\", \"Green\", \"Blue\"))"
      ],
      "metadata": {
        "id": "0tmeAePfiEda",
        "colab": {
          "base_uri": "https://localhost:8080/"
        },
        "outputId": "a5447e57-e467-44f9-92c9-eb97b1c3e4d8"
      },
      "execution_count": 26,
      "outputs": [
        {
          "output_type": "stream",
          "name": "stdout",
          "text": [
            "The color are Red Red Red\n"
          ]
        }
      ]
    },
    {
      "cell_type": "code",
      "source": [
        "#Using .format index\n",
        "print(\"The color are {2} {2} {2}\".format(\"Red\", \"Green\", \"Blue\"))"
      ],
      "metadata": {
        "id": "5P7sIMpKiIqw",
        "colab": {
          "base_uri": "https://localhost:8080/"
        },
        "outputId": "8d71f72e-86bd-4c16-a6f8-6869a064a816"
      },
      "execution_count": 27,
      "outputs": [
        {
          "output_type": "stream",
          "name": "stdout",
          "text": [
            "The color are Blue Blue Blue\n"
          ]
        }
      ]
    },
    {
      "cell_type": "code",
      "source": [
        "#Using .format variable\n",
        "print(\"The color are {r} {g} {b}\".format(r=\"Red\",g=\"Green\", b=\"Blue\"))"
      ],
      "metadata": {
        "colab": {
          "base_uri": "https://localhost:8080/"
        },
        "id": "2AjD9ZRWiSQs",
        "outputId": "9ba25e9c-c09b-4567-8493-ebfaa18b2131"
      },
      "execution_count": 28,
      "outputs": [
        {
          "output_type": "stream",
          "name": "stdout",
          "text": [
            "The color are Red Green Blue\n"
          ]
        }
      ]
    },
    {
      "cell_type": "markdown",
      "source": [
        "#Numbers & Arithmetics"
      ],
      "metadata": {
        "id": "BJgqQ3KjjpA9"
      }
    },
    {
      "cell_type": "code",
      "source": [
        "num1 = 14 #Set variable \"num1\" as 14\n",
        "print(a) #Print num1"
      ],
      "metadata": {
        "colab": {
          "base_uri": "https://localhost:8080/"
        },
        "id": "vh_Kh6h_kHI_",
        "outputId": "68fc7a1e-ce66-40db-8647-5ca580d2a135"
      },
      "execution_count": 30,
      "outputs": [
        {
          "output_type": "stream",
          "name": "stdout",
          "text": [
            "NYC TTP Winter Bootcamp\n"
          ]
        }
      ]
    },
    {
      "cell_type": "code",
      "source": [
        "num2 = 4 #Set variable \"num2\" as 4\n",
        "print(b) #Print num2"
      ],
      "metadata": {
        "colab": {
          "base_uri": "https://localhost:8080/"
        },
        "id": "aZ0quAHckLhw",
        "outputId": "eef11b06-f362-4b16-9f5c-dc20c4902b07"
      },
      "execution_count": 31,
      "outputs": [
        {
          "output_type": "stream",
          "name": "stdout",
          "text": [
            "This is another kind of string\n"
          ]
        }
      ]
    },
    {
      "cell_type": "code",
      "source": [
        "print(num1 + num2) #Perform addition arithmetic"
      ],
      "metadata": {
        "colab": {
          "base_uri": "https://localhost:8080/"
        },
        "id": "rcw7yxCdkPsE",
        "outputId": "d2a9e401-7e2e-4caf-d358-90df143b14a5"
      },
      "execution_count": 32,
      "outputs": [
        {
          "output_type": "stream",
          "name": "stdout",
          "text": [
            "18\n"
          ]
        }
      ]
    },
    {
      "cell_type": "code",
      "source": [
        "print(num1 - num2) #Perform substration arithmetic"
      ],
      "metadata": {
        "id": "4gaSNRHJkRTP",
        "colab": {
          "base_uri": "https://localhost:8080/"
        },
        "outputId": "ef6da065-8f45-4ee9-efe1-8bdb312c0538"
      },
      "execution_count": 33,
      "outputs": [
        {
          "output_type": "stream",
          "name": "stdout",
          "text": [
            "10\n"
          ]
        }
      ]
    },
    {
      "cell_type": "code",
      "source": [
        "print(num1 * num2) #Perform multiplication arithmetic"
      ],
      "metadata": {
        "colab": {
          "base_uri": "https://localhost:8080/"
        },
        "id": "JLTTldmUkUFv",
        "outputId": "e8a7e0e8-19f8-4d21-c32d-a09e359106db"
      },
      "execution_count": null,
      "outputs": [
        {
          "output_type": "stream",
          "name": "stdout",
          "text": [
            "56\n"
          ]
        }
      ]
    },
    {
      "cell_type": "code",
      "source": [
        "print(num1 / num2) #Perform division arithmetic"
      ],
      "metadata": {
        "colab": {
          "base_uri": "https://localhost:8080/"
        },
        "id": "I07oU2-vkvhv",
        "outputId": "408bc6f9-4c29-4201-a548-637439f36354"
      },
      "execution_count": null,
      "outputs": [
        {
          "output_type": "stream",
          "name": "stdout",
          "text": [
            "3.5\n"
          ]
        }
      ]
    },
    {
      "cell_type": "code",
      "source": [
        "print(num1 // num2) #Perform division arithmetic without remainder"
      ],
      "metadata": {
        "colab": {
          "base_uri": "https://localhost:8080/"
        },
        "id": "w4qYfqhak6zI",
        "outputId": "c6af4bc0-9b2f-4307-d2be-4aff5ef7d8f7"
      },
      "execution_count": null,
      "outputs": [
        {
          "output_type": "stream",
          "name": "stdout",
          "text": [
            "3\n"
          ]
        }
      ]
    },
    {
      "cell_type": "code",
      "source": [
        "print(num1 % num2) #Perform division but only display the remainder"
      ],
      "metadata": {
        "id": "oMi-iC9wk0iR",
        "colab": {
          "base_uri": "https://localhost:8080/"
        },
        "outputId": "f2565277-8f8f-436a-ea71-3909965d49c4"
      },
      "execution_count": 34,
      "outputs": [
        {
          "output_type": "stream",
          "name": "stdout",
          "text": [
            "2\n"
          ]
        }
      ]
    }
  ]
}