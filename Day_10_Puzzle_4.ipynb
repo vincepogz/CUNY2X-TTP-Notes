{
  "nbformat": 4,
  "nbformat_minor": 0,
  "metadata": {
    "colab": {
      "name": "Day 10 Puzzle #4.ipynb",
      "provenance": [],
      "authorship_tag": "ABX9TyO+TkhgbJ7nbM2jWxZMrg0S",
      "include_colab_link": true
    },
    "kernelspec": {
      "name": "python3",
      "display_name": "Python 3"
    },
    "language_info": {
      "name": "python"
    }
  },
  "cells": [
    {
      "cell_type": "markdown",
      "metadata": {
        "id": "view-in-github",
        "colab_type": "text"
      },
      "source": [
        "<a href=\"https://colab.research.google.com/github/vincepogz/CUNY2X-TTP-Notes/blob/main/Day_10_Puzzle_4.ipynb\" target=\"_parent\"><img src=\"https://colab.research.google.com/assets/colab-badge.svg\" alt=\"Open In Colab\"/></a>"
      ]
    },
    {
      "cell_type": "markdown",
      "source": [
        "# Puzzle #4: FIZZ BUZZ\n",
        "\n",
        "Create a function that takes a number as a parameter. This function will print out (console.log()) every number from 1 to the number passed as the parameter, now:\n",
        "- if the number is divisible by 3 then the function will print out the word 'Fizz' instead of the number.\n",
        "- if the number is divisible by 3 and 5 then the function will print out the word 'Fizz Buzz' instead of the number.\n",
        "\n",
        "\n",
        "Submit the github link to the repo containing the code, your reasoning and pseudo code of the solution for the problem (code comments).\n",
        "you may use google search to solve the problem but if you do YOU MUST: \n",
        "\n",
        "\n",
        "1. cite where you got it from. \n",
        "2. state why you didn't try to solve the problem on your own.\n",
        "3. write a detailed summary of every line of code you copied explaining what it is happening on said line of code."
      ],
      "metadata": {
        "id": "qo9Grs4JJT9C"
      }
    },
    {
      "cell_type": "markdown",
      "source": [
        "## PSEUDO CODE:\n",
        "\n",
        "1. Initialize Variables\n",
        "2. If the number is divisible by 3 and 5, set text \n",
        "3. If the number is divisible by 3, set text to FIZZ\n",
        "4. If the number is divisible by 3, set text to BUZZ\n",
        "5. If the number is divisible by 3, set text to  \"\"   \n",
        "6. Print the text\n",
        "\n",
        "\n",
        "\n",
        "\n",
        "\n"
      ],
      "metadata": {
        "id": "NEw1DaHAJdRQ"
      }
    },
    {
      "cell_type": "code",
      "source": [
        "//Initialize Variables\n",
        "let text=\"\";\n",
        "let number=30;\n",
        "\n",
        "for( let i=1; i<=number; i++)\n",
        "  {\n",
        "//If the number is divisible by 3 and 5, set text to FIZZ BUZZ\n",
        "    if(i%3===0 && i%5===0)\n",
        "    {\n",
        "      text = \"FIZZ BUZZ\";\n",
        "    }\n",
        "//If the number is divisible by 3, set text to FIZZ\n",
        "    else if(i%3===0)\n",
        "    {\n",
        "      text += \"FIZZ\";\n",
        "    }\n",
        "//If the number is divisible by 3, set text to BUZZ\n",
        "    else if(i%5===0)\n",
        "    {\n",
        "      text += \"BUZZ\";\n",
        "    }\n",
        "//If the number is divisible by 3, set text to  \"NA\"   \n",
        "    else\n",
        "    {\n",
        "      text = \"\";\n",
        "    }\n",
        "//Print the text\n",
        "    console.log(i+\": \"+text)\n",
        "    text = \"\";\n",
        "  }\n",
        "\n",
        "\n"
      ],
      "metadata": {
        "id": "lJg2_J3uJ-f5"
      },
      "execution_count": null,
      "outputs": []
    },
    {
      "cell_type": "code",
      "source": [
        "1: \n",
        "2: \n",
        "1: \n",
        "2: \n",
        "3: FIZZ\n",
        "4: \n",
        "5: BUZZ\n",
        "6: FIZZ\n",
        "7: \n",
        "8: \n",
        "9: FIZZ\n",
        "10: BUZZ\n",
        "11: \n",
        "12: FIZZ\n",
        "13: \n",
        "14: \n",
        "15: FIZZ BUZZ\n",
        "16: \n",
        "17: \n",
        "18: FIZZ\n",
        "19: \n",
        "20: BUZZ\n",
        "21: FIZZ\n",
        "22: \n",
        "23: \n",
        "24: FIZZ\n",
        "25: BUZZ\n",
        "26: \n",
        "27: FIZZ\n",
        "28: \n",
        "29: \n",
        "30: FIZZ BUZZ"
      ],
      "metadata": {
        "id": "n4cou0tWV6md"
      },
      "execution_count": null,
      "outputs": []
    }
  ]
}