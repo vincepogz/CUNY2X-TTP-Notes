{
  "nbformat": 4,
  "nbformat_minor": 0,
  "metadata": {
    "colab": {
      "name": "Puzzle #7: Caesar Cipher.ipynb",
      "provenance": [],
      "collapsed_sections": [],
      "authorship_tag": "ABX9TyMYejha6eaGxo9bvOu00rKu",
      "include_colab_link": true
    },
    "kernelspec": {
      "name": "python3",
      "display_name": "Python 3"
    },
    "language_info": {
      "name": "python"
    }
  },
  "cells": [
    {
      "cell_type": "markdown",
      "metadata": {
        "id": "view-in-github",
        "colab_type": "text"
      },
      "source": [
        "<a href=\"https://colab.research.google.com/github/vincepogz/CUNY2X-TTP-Notes/blob/main/Puzzle_7_Caesar_Cipher.ipynb\" target=\"_parent\"><img src=\"https://colab.research.google.com/assets/colab-badge.svg\" alt=\"Open In Colab\"/></a>"
      ]
    },
    {
      "cell_type": "markdown",
      "source": [
        "#Caesar Cipher"
      ],
      "metadata": {
        "id": "-NtwOcTbQwlA"
      }
    },
    {
      "cell_type": "markdown",
      "source": [
        "## Julius Caesar protected his confidential information by encrypting it using a cipher. Caesar's cipher shifts each letter by a number of letters. If the shift takes you past the end of the alphabet, just rotate back to the front of the alphabet. In the case of a rotation by 3, w, x, y, and z would map to z, a, b and c. Code the Caesar Cipher in Javascript and submit it here."
      ],
      "metadata": {
        "id": "nA5DStvqQ0WA"
      }
    },
    {
      "cell_type": "markdown",
      "source": [
        "## PSEUDO CODE"
      ],
      "metadata": {
        "id": "6xak6kUOQ32B"
      }
    },
    {
      "cell_type": "markdown",
      "source": [
        "* Create a function to accept 2 parameters: The word/sentence and the Shift\n",
        "\n",
        "* If the function received anything less than 0. We will add 26 to get the shift.\n",
        "\n",
        "* Initialize a variable to get the new word\n",
        "\n",
        "*  We will start from the beginning of the word\n",
        "\n",
        "*  Get the character that we are replacing\n",
        "\n",
        "*  Get the letter's ascii value\n",
        "\n",
        "*  Capital letters: get a new letter after shift\n",
        "\n",
        "*  Lowercase letters: get a new letter after shift\n",
        "\n",
        "*  Add the character to the new word"
      ],
      "metadata": {
        "id": "Zy5x6O-YY6qn"
      }
    },
    {
      "cell_type": "code",
      "source": [
        "# //Create a function to accept 2 parameters: The word/sentence and the Shift\n",
        "function cesar(string, amount) {\n",
        "  \n",
        "  # //If the function received anything less than 0. We will add 26 to get the shift.\n",
        "  if (amount < 0)\n",
        "    return cesar(string, amount + 26);\n",
        "  \n",
        "  # //Initialize a variable to get the new word\n",
        "  var newWord = '';\n",
        "\n",
        "  # // We will start from the beginning of the word\n",
        "  for (var i = 0; i < string.length; i++) {\n",
        "\n",
        "    # // Get the character that we are replacing\n",
        "    var c = string[i];\n",
        "\n",
        "\n",
        "    # // Get the letter's ascii value\n",
        "    var code = string.charCodeAt(i);\n",
        "\n",
        "    # // Capital letters: get a new letter after shift\n",
        "    if ((code >= 65) && (code <= 90))\n",
        "      c = String.fromCharCode(((code - 65 + amount) % 26) + 65);\n",
        "\n",
        "    # // Lowercase letters: get a new letter after shift\n",
        "    else if ((code >= 97) && (code <= 122))\n",
        "      c = String.fromCharCode(((code - 97 + amount) % 26) + 97);\n",
        "    \n",
        "\n",
        "    # // Add the character to the new word\n",
        "    newWord += c;\n",
        "  }\n",
        "\n",
        "  # // print Result\n",
        "  return newWord;\n",
        "};"
      ],
      "metadata": {
        "id": "TM-944vHYFkA"
      },
      "execution_count": null,
      "outputs": []
    },
    {
      "cell_type": "code",
      "source": [
        "Console:\n",
        "\n",
        "console.log(cesar(\"HELLO MY NAME IS VINCE\", 4))\n",
        "LIPPS QC REQI MW ZMRGI"
      ],
      "metadata": {
        "id": "Zd0RWj1-YI-7"
      },
      "execution_count": null,
      "outputs": []
    }
  ]
}