{
  "nbformat": 4,
  "nbformat_minor": 0,
  "metadata": {
    "colab": {
      "name": "Day 3 Functions.ipynb",
      "provenance": [],
      "authorship_tag": "ABX9TyNwFa3CCGwCldDf3F7s6aK6",
      "include_colab_link": true
    },
    "kernelspec": {
      "name": "python3",
      "display_name": "Python 3"
    },
    "language_info": {
      "name": "python"
    }
  },
  "cells": [
    {
      "cell_type": "markdown",
      "metadata": {
        "id": "view-in-github",
        "colab_type": "text"
      },
      "source": [
        "<a href=\"https://colab.research.google.com/github/vincepogz/CUNY2X-TTP-Notes/blob/main/Day_3_Functions.ipynb\" target=\"_parent\"><img src=\"https://colab.research.google.com/assets/colab-badge.svg\" alt=\"Open In Colab\"/></a>"
      ]
    },
    {
      "cell_type": "markdown",
      "source": [
        "#Functions"
      ],
      "metadata": {
        "id": "vNC_mlwPQ__6"
      }
    },
    {
      "cell_type": "markdown",
      "source": [
        "# So what is a function?\n",
        "\n",
        "Formally, a function is a useful device that groups together a set of statements so they can be run more than once. They can also let us specify parameters that can serve as inputs to the functions.\n",
        "\n",
        "On a more fundamental level, functions allow us to not have to repeatedly write the same code again and again. If you remember back to the lessons on strings and lists, remember that we used a function len() to get the length of a string. Since checking the length of a sequence is a common task you would want to write a function that can do this repeatedly at command.\n",
        "\n",
        "Functions will be one of most basic levels of reusing code in Python, and it will also allow us to start thinking of program design (we will dive much deeper into the ideas of design when we learn about Object Oriented Programming)."
      ],
      "metadata": {
        "id": "0WTJSXP4REm9"
      }
    },
    {
      "cell_type": "markdown",
      "source": [
        "# def Statements\n",
        "Let's see how to build out a function's syntax in Python. It has the following form:"
      ],
      "metadata": {
        "id": "1xG5dxcXY1gB"
      }
    },
    {
      "cell_type": "code",
      "source": [
        "def name_of_function(arg1,arg2):\n",
        "    '''\n",
        "    This is where the function's Document String (doc-string) goes\n",
        "    '''\n",
        "    # Do stuff here\n",
        "    #return desired result"
      ],
      "metadata": {
        "id": "SPjNohQvY3v1"
      },
      "execution_count": null,
      "outputs": []
    },
    {
      "cell_type": "code",
      "source": [
        "def say_hello():\n",
        "    print('hello')"
      ],
      "metadata": {
        "id": "9ju54EbOZIHM"
      },
      "execution_count": null,
      "outputs": []
    },
    {
      "cell_type": "code",
      "source": [
        "say_hello()"
      ],
      "metadata": {
        "colab": {
          "base_uri": "https://localhost:8080/"
        },
        "id": "BRwQJ1jeZLOU",
        "outputId": "37bd401b-1e65-4c58-f15f-4409ab0f176e"
      },
      "execution_count": null,
      "outputs": [
        {
          "output_type": "stream",
          "name": "stdout",
          "text": [
            "hello\n"
          ]
        }
      ]
    },
    {
      "cell_type": "code",
      "source": [
        "def greetings(name):\n",
        "  '''\n",
        "  Author: \n",
        "  Input: name\n",
        "  Output: hello name\n",
        "  '''\n",
        "  print(f'Hello there {name}')"
      ],
      "metadata": {
        "id": "485DBf_HZisC"
      },
      "execution_count": null,
      "outputs": []
    },
    {
      "cell_type": "code",
      "source": [
        "greetings('Joseph')"
      ],
      "metadata": {
        "id": "NENPap-mZjwo"
      },
      "execution_count": null,
      "outputs": []
    },
    {
      "cell_type": "code",
      "source": [
        "def add_num(x, y):\n",
        "  return x + y"
      ],
      "metadata": {
        "id": "m0chOiTFa_F4"
      },
      "execution_count": null,
      "outputs": []
    },
    {
      "cell_type": "code",
      "source": [
        "add_num(34, 6)"
      ],
      "metadata": {
        "id": "T-x4gFo9bAXU"
      },
      "execution_count": null,
      "outputs": []
    },
    {
      "cell_type": "code",
      "source": [
        "# Write a function that check if a number is prime.!\n",
        "\n",
        "# 1. What do we want?\n",
        "# we want a function that checks if a number is prime.\n",
        "\n",
        "# 2. What do we need?\n",
        "# Well, I need to first define what a prime numnber is.\n",
        "# then, design some type of methodology to pass a number and confirm whether it is prime of not.\n",
        "\n",
        "# 3. What do we have?\n",
        "# python, definition of prime numbers\n",
        "\n",
        "def isPrime(n):\n",
        "  '''\n",
        "  '''\n",
        "  for i in range(2, n):\n",
        "    if n % i == 0:\n",
        "      print(f'The number {n} is not prime')\n",
        "      break\n",
        "  else:\n",
        "    print(f'The number {n} is prime')\n"
      ],
      "metadata": {
        "id": "cjJZ_wUge9Zq"
      },
      "execution_count": null,
      "outputs": []
    },
    {
      "cell_type": "code",
      "source": [
        "isPrime(9)"
      ],
      "metadata": {
        "colab": {
          "base_uri": "https://localhost:8080/"
        },
        "id": "CN6Kp6Z_e_np",
        "outputId": "a8c5bdd5-16dd-4320-ea61-42a59bc0a3a9"
      },
      "execution_count": null,
      "outputs": [
        {
          "output_type": "stream",
          "name": "stdout",
          "text": [
            "The number 9 is not prime\n"
          ]
        }
      ]
    },
    {
      "cell_type": "code",
      "source": [
        "# Store data into a variable with \"return\"\n",
        "\n",
        "def greeting2(name = \"Mark\"):\n",
        "    return \"Hello \" + name\n",
        "\n",
        "default = greeting2()\n",
        "print(default)\n",
        "greeting2(\"Tasha\")\n"
      ],
      "metadata": {
        "colab": {
          "base_uri": "https://localhost:8080/",
          "height": 54
        },
        "id": "upv5jasMfbDv",
        "outputId": "8be94ddd-46ac-470f-b121-c4cb8bdacea6"
      },
      "execution_count": null,
      "outputs": [
        {
          "output_type": "stream",
          "name": "stdout",
          "text": [
            "Hello Mark\n"
          ]
        },
        {
          "output_type": "execute_result",
          "data": {
            "application/vnd.google.colaboratory.intrinsic+json": {
              "type": "string"
            },
            "text/plain": [
              "'Hello Tasha'"
            ]
          },
          "metadata": {},
          "execution_count": 11
        }
      ]
    },
    {
      "cell_type": "code",
      "source": [
        "def even_number(l):\n",
        "    \"\"\"\n",
        "    It's a function to print even number's\n",
        "    input: A list with numbers\n",
        "    output: A list with even numbers\n",
        "    \"\"\"\n",
        "    enum = []\n",
        "    for n in l:\n",
        "        if n % 2 == 0:\n",
        "            enum.append(n)\n",
        "    return(enum)"
      ],
      "metadata": {
        "id": "PLUJCah9gf8w"
      },
      "execution_count": null,
      "outputs": []
    },
    {
      "cell_type": "code",
      "source": [
        "help(even_number)"
      ],
      "metadata": {
        "id": "lKFTmaGZhBVw"
      },
      "execution_count": null,
      "outputs": []
    },
    {
      "cell_type": "code",
      "source": [
        "even_number([123, 23456, 8765, 8765, 987, 666, 453, 21345, 6789, 98765, 22223, 34556, 78])"
      ],
      "metadata": {
        "id": "6dm4FRGFhCwl"
      },
      "execution_count": null,
      "outputs": []
    },
    {
      "cell_type": "code",
      "source": [
        "def findUnit(temperature):\n",
        "  '''\n",
        "  This function will find the unit of the temperature\n",
        "  '''\n",
        "  unit = len(temperature)  #Find the max length of string temperature\n",
        "  unit = temperature[unit-1]  #Convert unit from string to integer\n",
        "\n",
        "  return unit\n",
        "\n",
        "def convert(temperature, unit):\n",
        "  '''\n",
        "  Converting based on input\n",
        "  '''\n",
        "\n",
        "  if unit == 'F':\n",
        "    unitF(temperature)\n",
        "\n",
        "  elif unit == 'C':\n",
        "    unitC(temperature)\n",
        "\n",
        "  elif unit == 'K':\n",
        "    unitK(temperature)\n",
        "\n",
        "  else:\n",
        "    print(f'Invalid Entry')\n",
        "\n",
        "  return\n",
        "\n",
        "def unitF(temperature):\n",
        "  Celcius = (temperature-32) * (5/9)\n",
        "  Kelvin = (temperature-32) * (5/9) + 273.15\n",
        "  print(f'{temperature} Farenheit in Celcius is: ',Celcius, 'C')\n",
        "  print(f'{temperature} Farenheit in Kelvin is: ', Kelvin, 'K')\n",
        "  return\n",
        "def unitC(temperature):\n",
        "  Farenheit = 0\n",
        "  Kelvin = 0\n",
        "\n",
        "\n",
        "  return\n",
        "def unitK(temperature):\n",
        "  Celcius = 0\n",
        "  Farenheit = 0\n",
        "  return\n",
        "\n",
        "temp = input('Enter your temperature (Ex. 45F): ')\n",
        "unit = findUnit(temp)\n",
        "number = len(temp)\n",
        "temp = temp[0:number-1]\n",
        "temp = int(temp)\n",
        "\n",
        "convert(temp,unit)\n",
        "\n",
        "\n",
        "\n",
        "\n"
      ],
      "metadata": {
        "colab": {
          "base_uri": "https://localhost:8080/"
        },
        "id": "bpMRUYKLiHGL",
        "outputId": "792e851a-8ce8-4ddc-c66c-ee67209cf577"
      },
      "execution_count": null,
      "outputs": [
        {
          "output_type": "stream",
          "name": "stdout",
          "text": [
            "Enter your temperature (Ex. 45F): 80F\n",
            "80 Farenheit in Celcius is:  26.666666666666668 C\n",
            "80 Farenheit in Kelvin is:  299.81666666666666 K\n"
          ]
        }
      ]
    }
  ]
}