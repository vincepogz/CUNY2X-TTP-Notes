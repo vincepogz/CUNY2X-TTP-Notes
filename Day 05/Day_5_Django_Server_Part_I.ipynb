{
  "nbformat": 4,
  "nbformat_minor": 0,
  "metadata": {
    "colab": {
      "name": "Day 5 Django Server Part I.ipynb",
      "provenance": [],
      "authorship_tag": "ABX9TyOLTL2cxEiYMmalwWTI245V",
      "include_colab_link": true
    },
    "kernelspec": {
      "name": "python3",
      "display_name": "Python 3"
    },
    "language_info": {
      "name": "python"
    }
  },
  "cells": [
    {
      "cell_type": "markdown",
      "metadata": {
        "id": "view-in-github",
        "colab_type": "text"
      },
      "source": [
        "<a href=\"https://colab.research.google.com/github/vincepogz/CUNY2X-TTP-Notes/blob/main/Day_5_Django_Server_Part_I.ipynb\" target=\"_parent\"><img src=\"https://colab.research.google.com/assets/colab-badge.svg\" alt=\"Open In Colab\"/></a>"
      ]
    },
    {
      "cell_type": "markdown",
      "source": [
        "#Create a Django Server to print string/text"
      ],
      "metadata": {
        "id": "4QnA8_GQwZq9"
      }
    },
    {
      "cell_type": "markdown",
      "source": [
        "##Create a folder to place the server"
      ],
      "metadata": {
        "id": "3S2jTuf7We8S"
      }
    },
    {
      "cell_type": "markdown",
      "source": [
        "#Link an app/page (admin) in the Django Project"
      ],
      "metadata": {
        "id": "5-whYJz8WHvh"
      }
    }
  ]
}